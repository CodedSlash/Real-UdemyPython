{
 "cells": [
  {
   "cell_type": "code",
   "execution_count": 1,
   "id": "36055e25",
   "metadata": {},
   "outputs": [
    {
     "data": {
      "text/plain": [
       "3"
      ]
     },
     "execution_count": 1,
     "metadata": {},
     "output_type": "execute_result"
    }
   ],
   "source": [
    "2+1\n"
   ]
  },
  {
   "cell_type": "code",
   "execution_count": 2,
   "id": "19f0cbc3",
   "metadata": {},
   "outputs": [
    {
     "data": {
      "text/plain": [
       "1"
      ]
     },
     "execution_count": 2,
     "metadata": {},
     "output_type": "execute_result"
    }
   ],
   "source": [
    "2-1\n"
   ]
  },
  {
   "cell_type": "markdown",
   "id": "59ebe643",
   "metadata": {},
   "source": [
    "3/2\n"
   ]
  },
  {
   "cell_type": "code",
   "execution_count": 3,
   "id": "ac43d21d",
   "metadata": {},
   "outputs": [
    {
     "data": {
      "text/plain": [
       "4"
      ]
     },
     "execution_count": 3,
     "metadata": {},
     "output_type": "execute_result"
    }
   ],
   "source": [
    "2+2"
   ]
  },
  {
   "cell_type": "code",
   "execution_count": 4,
   "id": "5ccaa24b",
   "metadata": {},
   "outputs": [
    {
     "data": {
      "text/plain": [
       "1.5"
      ]
     },
     "execution_count": 4,
     "metadata": {},
     "output_type": "execute_result"
    }
   ],
   "source": [
    "3/2"
   ]
  },
  {
   "cell_type": "code",
   "execution_count": 5,
   "id": "92761e5f",
   "metadata": {},
   "outputs": [
    {
     "data": {
      "text/plain": [
       "1.75"
      ]
     },
     "execution_count": 5,
     "metadata": {},
     "output_type": "execute_result"
    }
   ],
   "source": [
    "7/4"
   ]
  },
  {
   "cell_type": "code",
   "execution_count": 6,
   "id": "8af64e96",
   "metadata": {},
   "outputs": [
    {
     "data": {
      "text/plain": [
       "3"
      ]
     },
     "execution_count": 6,
     "metadata": {},
     "output_type": "execute_result"
    }
   ],
   "source": [
    "# Checks the remainder 7 divide by 4 is 4 times 1 = 4 and 3 reamining\n",
    "20 divide by 2 is exactly 10 with no remainder so 20 % 2 will be  equals to 0\n",
    "\n",
    "\n",
    "7 % 4"
   ]
  },
  {
   "cell_type": "code",
   "execution_count": 7,
   "id": "688fab34",
   "metadata": {},
   "outputs": [
    {
     "data": {
      "text/plain": [
       "8"
      ]
     },
     "execution_count": 7,
     "metadata": {},
     "output_type": "execute_result"
    }
   ],
   "source": [
    "2 ** 3"
   ]
  },
  {
   "cell_type": "code",
   "execution_count": 8,
   "id": "6a39b138",
   "metadata": {},
   "outputs": [
    {
     "data": {
      "text/plain": [
       "105"
      ]
     },
     "execution_count": 8,
     "metadata": {},
     "output_type": "execute_result"
    }
   ],
   "source": [
    "2+10*10+3"
   ]
  },
  {
   "cell_type": "code",
   "execution_count": 9,
   "id": "d038a499",
   "metadata": {},
   "outputs": [
    {
     "data": {
      "text/plain": [
       "156"
      ]
     },
     "execution_count": 9,
     "metadata": {},
     "output_type": "execute_result"
    }
   ],
   "source": [
    "# It uses BODMAS known as PEDMAS in US (Parentheses-Exponents-Multiplication-Addistion-Subtraction)\n",
    "\n",
    "\n",
    "(2+10)*(10+3)"
   ]
  },
  {
   "cell_type": "code",
   "execution_count": 10,
   "id": "fd5908c3",
   "metadata": {},
   "outputs": [
    {
     "data": {
      "text/plain": [
       "0.125"
      ]
     },
     "execution_count": 10,
     "metadata": {},
     "output_type": "execute_result"
    }
   ],
   "source": [
    "1/10+2/100+5/1000"
   ]
  },
  {
   "cell_type": "code",
   "execution_count": 11,
   "id": "982a38dc",
   "metadata": {},
   "outputs": [
    {
     "data": {
      "text/plain": [
       "0.125"
      ]
     },
     "execution_count": 11,
     "metadata": {},
     "output_type": "execute_result"
    }
   ],
   "source": [
    "0/2+0/4+1/8"
   ]
  },
  {
   "cell_type": "code",
   "execution_count": 12,
   "id": "959a4b0a",
   "metadata": {},
   "outputs": [
    {
     "data": {
      "text/plain": [
       "2.67"
      ]
     },
     "execution_count": 12,
     "metadata": {},
     "output_type": "execute_result"
    }
   ],
   "source": [
    "round(2.675,2)"
   ]
  },
  {
   "cell_type": "code",
   "execution_count": 13,
   "id": "371ea320",
   "metadata": {},
   "outputs": [
    {
     "ename": "NameError",
     "evalue": "name 'decimal' is not defined",
     "output_type": "error",
     "traceback": [
      "\u001b[0;31m---------------------------------------------------------------------------\u001b[0m",
      "\u001b[0;31mNameError\u001b[0m                                 Traceback (most recent call last)",
      "Cell \u001b[0;32mIn[13], line 1\u001b[0m\n\u001b[0;32m----> 1\u001b[0m decimal(\u001b[38;5;241m2.675\u001b[39m)\n",
      "\u001b[0;31mNameError\u001b[0m: name 'decimal' is not defined"
     ]
    }
   ],
   "source": [
    "decimal(2.675)"
   ]
  },
  {
   "cell_type": "code",
   "execution_count": 14,
   "id": "b74b7202",
   "metadata": {},
   "outputs": [],
   "source": [
    "from decimal import Decimal\n"
   ]
  },
  {
   "cell_type": "code",
   "execution_count": 15,
   "id": "057a1cac",
   "metadata": {},
   "outputs": [
    {
     "data": {
      "text/plain": [
       "Decimal('2.67499999999999982236431605997495353221893310546875')"
      ]
     },
     "execution_count": 15,
     "metadata": {},
     "output_type": "execute_result"
    }
   ],
   "source": [
    "Decimal(2.675)"
   ]
  },
  {
   "cell_type": "code",
   "execution_count": 101,
   "id": "6ce149b5",
   "metadata": {},
   "outputs": [],
   "source": [
    "#NAMES and VARIABLES\n",
    "\n",
    "a = 5\n"
   ]
  },
  {
   "cell_type": "code",
   "execution_count": 17,
   "id": "fcfde640",
   "metadata": {},
   "outputs": [],
   "source": [
    "a = 5"
   ]
  },
  {
   "cell_type": "code",
   "execution_count": 18,
   "id": "dfe9f164",
   "metadata": {},
   "outputs": [
    {
     "data": {
      "text/plain": [
       "5"
      ]
     },
     "execution_count": 18,
     "metadata": {},
     "output_type": "execute_result"
    }
   ],
   "source": [
    "a"
   ]
  },
  {
   "cell_type": "code",
   "execution_count": 19,
   "id": "467c0e69",
   "metadata": {},
   "outputs": [],
   "source": [
    "a=10"
   ]
  },
  {
   "cell_type": "code",
   "execution_count": 20,
   "id": "654f1beb",
   "metadata": {},
   "outputs": [
    {
     "data": {
      "text/plain": [
       "10"
      ]
     },
     "execution_count": 20,
     "metadata": {},
     "output_type": "execute_result"
    }
   ],
   "source": [
    "a"
   ]
  },
  {
   "cell_type": "code",
   "execution_count": 21,
   "id": "b63a629f",
   "metadata": {},
   "outputs": [
    {
     "data": {
      "text/plain": [
       "20"
      ]
     },
     "execution_count": 21,
     "metadata": {},
     "output_type": "execute_result"
    }
   ],
   "source": [
    "a+a"
   ]
  },
  {
   "cell_type": "code",
   "execution_count": 32,
   "id": "91c42c9c",
   "metadata": {},
   "outputs": [],
   "source": [
    "a= a+a"
   ]
  },
  {
   "cell_type": "code",
   "execution_count": 33,
   "id": "14bcfdfc",
   "metadata": {},
   "outputs": [
    {
     "data": {
      "text/plain": [
       "160"
      ]
     },
     "execution_count": 33,
     "metadata": {},
     "output_type": "execute_result"
    }
   ],
   "source": [
    "a"
   ]
  },
  {
   "cell_type": "code",
   "execution_count": 24,
   "id": "10a139de",
   "metadata": {},
   "outputs": [
    {
     "data": {
      "text/plain": [
       "20"
      ]
     },
     "execution_count": 24,
     "metadata": {},
     "output_type": "execute_result"
    }
   ],
   "source": [
    "a"
   ]
  },
  {
   "cell_type": "code",
   "execution_count": 25,
   "id": "a4447bae",
   "metadata": {},
   "outputs": [
    {
     "data": {
      "text/plain": [
       "20"
      ]
     },
     "execution_count": 25,
     "metadata": {},
     "output_type": "execute_result"
    }
   ],
   "source": [
    "a"
   ]
  },
  {
   "cell_type": "code",
   "execution_count": 34,
   "id": "6580fad3",
   "metadata": {},
   "outputs": [
    {
     "data": {
      "text/plain": [
       "int"
      ]
     },
     "execution_count": 34,
     "metadata": {},
     "output_type": "execute_result"
    }
   ],
   "source": [
    "type(a)"
   ]
  },
  {
   "cell_type": "code",
   "execution_count": 35,
   "id": "c011070d",
   "metadata": {},
   "outputs": [],
   "source": [
    "a=30.8"
   ]
  },
  {
   "cell_type": "code",
   "execution_count": 36,
   "id": "38b38a9d",
   "metadata": {},
   "outputs": [
    {
     "data": {
      "text/plain": [
       "float"
      ]
     },
     "execution_count": 36,
     "metadata": {},
     "output_type": "execute_result"
    }
   ],
   "source": [
    "type(a)"
   ]
  },
  {
   "cell_type": "code",
   "execution_count": 58,
   "id": "03f4d064",
   "metadata": {},
   "outputs": [],
   "source": [
    "my_income = 100\n",
    "tax_rate = 0.1\n",
    "my_taxes =my_income * tax_rate"
   ]
  },
  {
   "cell_type": "code",
   "execution_count": 38,
   "id": "c61488d7",
   "metadata": {},
   "outputs": [],
   "source": [
    "my_income= 100\n",
    "tax_rate=0.1\n",
    "my_taxes=my_income*tax_rate"
   ]
  },
  {
   "cell_type": "code",
   "execution_count": 39,
   "id": "e1372700",
   "metadata": {},
   "outputs": [
    {
     "data": {
      "text/plain": [
       "10.0"
      ]
     },
     "execution_count": 39,
     "metadata": {},
     "output_type": "execute_result"
    }
   ],
   "source": [
    "my_taxes"
   ]
  },
  {
   "cell_type": "code",
   "execution_count": 40,
   "id": "967e062f",
   "metadata": {},
   "outputs": [],
   "source": [
    "my_income= 8300\n"
   ]
  },
  {
   "cell_type": "code",
   "execution_count": 41,
   "id": "e3f9359b",
   "metadata": {},
   "outputs": [
    {
     "data": {
      "text/plain": [
       "10.0"
      ]
     },
     "execution_count": 41,
     "metadata": {},
     "output_type": "execute_result"
    }
   ],
   "source": [
    "my_taxes"
   ]
  },
  {
   "cell_type": "code",
   "execution_count": 57,
   "id": "7d72a7b3",
   "metadata": {},
   "outputs": [
    {
     "data": {
      "text/plain": [
       "'this is a string lecture'"
      ]
     },
     "execution_count": 57,
     "metadata": {},
     "output_type": "execute_result"
    }
   ],
   "source": [
    "# STRINGS LECTURE\n",
    "# Indexing and slicing\n",
    "\"this is a string lecture\""
   ]
  },
  {
   "cell_type": "code",
   "execution_count": 56,
   "id": "9d76ce6f",
   "metadata": {},
   "outputs": [
    {
     "data": {
      "text/plain": [
       "'hello'"
      ]
     },
     "execution_count": 56,
     "metadata": {},
     "output_type": "execute_result"
    }
   ],
   "source": [
    "'hello'\n"
   ]
  },
  {
   "cell_type": "code",
   "execution_count": 44,
   "id": "28c4622e",
   "metadata": {},
   "outputs": [
    {
     "data": {
      "text/plain": [
       "'hello'"
      ]
     },
     "execution_count": 44,
     "metadata": {},
     "output_type": "execute_result"
    }
   ],
   "source": [
    "\"hello\""
   ]
  },
  {
   "cell_type": "code",
   "execution_count": 45,
   "id": "4057274d",
   "metadata": {},
   "outputs": [
    {
     "data": {
      "text/plain": [
       "\"i'm going home or can't I\""
      ]
     },
     "execution_count": 45,
     "metadata": {},
     "output_type": "execute_result"
    }
   ],
   "source": [
    "\"i'm going home or can't I\""
   ]
  },
  {
   "cell_type": "code",
   "execution_count": 46,
   "id": "2d29c3d4",
   "metadata": {},
   "outputs": [
    {
     "data": {
      "text/plain": [
       "'hello world girls'"
      ]
     },
     "execution_count": 46,
     "metadata": {},
     "output_type": "execute_result"
    }
   ],
   "source": [
    "'hello world boys'\n",
    "'hello world girls'"
   ]
  },
  {
   "cell_type": "code",
   "execution_count": 47,
   "id": "a3c77d06",
   "metadata": {},
   "outputs": [
    {
     "name": "stdout",
     "output_type": "stream",
     "text": [
      "hello world boys\n",
      "hello world girls\n"
     ]
    }
   ],
   "source": [
    "# This shows the Use of Print, look t the example in 46 the output was just the 2nd line only but below both\n",
    "\n",
    "\n",
    "print('hello world boys')\n",
    "print('hello world girls')"
   ]
  },
  {
   "cell_type": "code",
   "execution_count": 48,
   "id": "b3a70b8b",
   "metadata": {},
   "outputs": [
    {
     "name": "stdout",
     "output_type": "stream",
     "text": [
      "hello world\n"
     ]
    }
   ],
   "source": [
    "print('hello world')"
   ]
  },
  {
   "cell_type": "code",
   "execution_count": 50,
   "id": "38d3d767",
   "metadata": {},
   "outputs": [
    {
     "name": "stdout",
     "output_type": "stream",
     "text": [
      "hello \n",
      "world\n"
     ]
    }
   ],
   "source": [
    "# Here we see how to put characters like new line which is \\n or tab which \\t in between strings\n",
    "\n",
    "print('hello \\nworld')"
   ]
  },
  {
   "cell_type": "code",
   "execution_count": 51,
   "id": "93bd8554",
   "metadata": {},
   "outputs": [
    {
     "name": "stdout",
     "output_type": "stream",
     "text": [
      "hello \t world\n"
     ]
    }
   ],
   "source": [
    "print('hello \\t world')"
   ]
  },
  {
   "cell_type": "code",
   "execution_count": 52,
   "id": "99faa9ec",
   "metadata": {},
   "outputs": [
    {
     "name": "stdout",
     "output_type": "stream",
     "text": [
      "hello \t     world\n"
     ]
    }
   ],
   "source": [
    "# The tab spacing can be adjusted by just increasing the space bewteen the strings same as the new line \\n\n",
    "\n",
    "\n",
    "\n",
    "print('hello \\t     world')"
   ]
  },
  {
   "cell_type": "code",
   "execution_count": 53,
   "id": "f3509c6a",
   "metadata": {},
   "outputs": [
    {
     "data": {
      "text/plain": [
       "5"
      ]
     },
     "execution_count": 53,
     "metadata": {},
     "output_type": "execute_result"
    }
   ],
   "source": [
    "# the len is the length of the character like hellombellow contains 5 characters and my baby is 7 it includes d space\n",
    "\n",
    "\n",
    "\n",
    "len('hello')"
   ]
  },
  {
   "cell_type": "code",
   "execution_count": 55,
   "id": "f0e8841c",
   "metadata": {},
   "outputs": [
    {
     "data": {
      "text/plain": [
       "7"
      ]
     },
     "execution_count": 55,
     "metadata": {},
     "output_type": "execute_result"
    }
   ],
   "source": [
    "len('my baby')"
   ]
  },
  {
   "cell_type": "code",
   "execution_count": 59,
   "id": "327a4cba",
   "metadata": {},
   "outputs": [],
   "source": [
    "#Indexing and Slicing\n",
    "\n",
    "mystring = \"Hello World\""
   ]
  },
  {
   "cell_type": "code",
   "execution_count": 60,
   "id": "5a3671bc",
   "metadata": {},
   "outputs": [
    {
     "data": {
      "text/plain": [
       "'Hello World'"
      ]
     },
     "execution_count": 60,
     "metadata": {},
     "output_type": "execute_result"
    }
   ],
   "source": [
    "mystring"
   ]
  },
  {
   "cell_type": "code",
   "execution_count": 61,
   "id": "fa386b7f",
   "metadata": {},
   "outputs": [
    {
     "data": {
      "text/plain": [
       "'r'"
      ]
     },
     "execution_count": 61,
     "metadata": {},
     "output_type": "execute_result"
    }
   ],
   "source": [
    "#Indexing shows the number of the character as show below 8 in hello world is letter r\n",
    "\n",
    "mystring[8]"
   ]
  },
  {
   "cell_type": "code",
   "execution_count": 62,
   "id": "a09b200a",
   "metadata": {},
   "outputs": [
    {
     "data": {
      "text/plain": [
       "'d'"
      ]
     },
     "execution_count": 62,
     "metadata": {},
     "output_type": "execute_result"
    }
   ],
   "source": [
    "# strings could be indexed from behind as shown below -1 will be the d in Hellow world read from behind\n",
    "\n",
    "mystring[-1]"
   ]
  },
  {
   "cell_type": "code",
   "execution_count": 63,
   "id": "8797434c",
   "metadata": {},
   "outputs": [],
   "source": [
    "# slicing takes a part of the string, i.e 2 or more out of a character\n",
    "\n",
    "mystring= \"olukayode\""
   ]
  },
  {
   "cell_type": "code",
   "execution_count": 64,
   "id": "85c5f0d0",
   "metadata": {},
   "outputs": [
    {
     "data": {
      "text/plain": [
       "'olukayode'"
      ]
     },
     "execution_count": 64,
     "metadata": {},
     "output_type": "execute_result"
    }
   ],
   "source": [
    "mystring"
   ]
  },
  {
   "cell_type": "code",
   "execution_count": 66,
   "id": "db4024bb",
   "metadata": {},
   "outputs": [
    {
     "data": {
      "text/plain": [
       "'k'"
      ]
     },
     "execution_count": 66,
     "metadata": {},
     "output_type": "execute_result"
    }
   ],
   "source": [
    "mystring[3]"
   ]
  },
  {
   "cell_type": "code",
   "execution_count": 67,
   "id": "e7cb17ae",
   "metadata": {},
   "outputs": [
    {
     "data": {
      "text/plain": [
       "8"
      ]
     },
     "execution_count": 67,
     "metadata": {},
     "output_type": "execute_result"
    }
   ],
   "source": [
    "len(\"mystring\")     #remember counts from 0 "
   ]
  },
  {
   "cell_type": "code",
   "execution_count": 69,
   "id": "345fd92f",
   "metadata": {},
   "outputs": [
    {
     "data": {
      "text/plain": [
       "'kayode'"
      ]
     },
     "execution_count": 69,
     "metadata": {},
     "output_type": "execute_result"
    }
   ],
   "source": [
    "# Below shows from wherever we wantin the string to the end of the string and the other way round is further below\n",
    "\n",
    "\n",
    "mystring[3:]"
   ]
  },
  {
   "cell_type": "code",
   "execution_count": 71,
   "id": "76e16532",
   "metadata": {},
   "outputs": [
    {
     "data": {
      "text/plain": [
       "'olu'"
      ]
     },
     "execution_count": 71,
     "metadata": {},
     "output_type": "execute_result"
    }
   ],
   "source": [
    "mystring[:3]"
   ]
  },
  {
   "cell_type": "code",
   "execution_count": 73,
   "id": "33df398b",
   "metadata": {},
   "outputs": [
    {
     "data": {
      "text/plain": [
       "'kay'"
      ]
     },
     "execution_count": 73,
     "metadata": {},
     "output_type": "execute_result"
    }
   ],
   "source": [
    "mystring[3:6]"
   ]
  },
  {
   "cell_type": "code",
   "execution_count": 74,
   "id": "947052da",
   "metadata": {},
   "outputs": [
    {
     "data": {
      "text/plain": [
       "'olukayode'"
      ]
     },
     "execution_count": 74,
     "metadata": {},
     "output_type": "execute_result"
    }
   ],
   "source": [
    "# Below you can use to show the fulll string or just type out the variable mystring as usually do.\n",
    "# further below we see why this double colunm is used we use it for step slice as shown below we going 2 steps\n",
    "\n",
    "mystring[::]"
   ]
  },
  {
   "cell_type": "code",
   "execution_count": 75,
   "id": "876807b5",
   "metadata": {},
   "outputs": [
    {
     "data": {
      "text/plain": [
       "'ouaoe'"
      ]
     },
     "execution_count": 75,
     "metadata": {},
     "output_type": "execute_result"
    }
   ],
   "source": [
    "#Below we have used 2 steps slice from the begining of the string(2 loops)\n",
    "\n",
    "mystring[::2]"
   ]
  },
  {
   "cell_type": "code",
   "execution_count": 76,
   "id": "14eb42c0",
   "metadata": {},
   "outputs": [
    {
     "data": {
      "text/plain": [
       "'oko'"
      ]
     },
     "execution_count": 76,
     "metadata": {},
     "output_type": "execute_result"
    }
   ],
   "source": [
    "mystring[::3]"
   ]
  },
  {
   "cell_type": "code",
   "execution_count": 83,
   "id": "88c175e3",
   "metadata": {},
   "outputs": [
    {
     "data": {
      "text/plain": [
       "'lad'"
      ]
     },
     "execution_count": 83,
     "metadata": {},
     "output_type": "execute_result"
    }
   ],
   "source": [
    "# Below starts on 1 stops at 8 and moves by 3 steps\n",
    "\n",
    "mystring[1:8:3]"
   ]
  },
  {
   "cell_type": "code",
   "execution_count": 84,
   "id": "27809d8a",
   "metadata": {},
   "outputs": [
    {
     "data": {
      "text/plain": [
       "'edoyakulo'"
      ]
     },
     "execution_count": 84,
     "metadata": {},
     "output_type": "execute_result"
    }
   ],
   "source": [
    "# Below is a statement saying all the way to the begining all the way to the end take a backward step \n",
    "\n",
    "mystring[::-1]"
   ]
  },
  {
   "cell_type": "code",
   "execution_count": 94,
   "id": "32b73abc",
   "metadata": {},
   "outputs": [],
   "source": [
    "# [IMMUTABILITY: this shows that strings are data types in python that cannot be mutated, immitated or swapped\n",
    "# 94 to 98 is just checking this works but you cannot reassing a string(str) or an integer(int)\n",
    "\n",
    "Data= 381"
   ]
  },
  {
   "cell_type": "code",
   "execution_count": 95,
   "id": "a73b8c2a",
   "metadata": {},
   "outputs": [
    {
     "data": {
      "text/plain": [
       "381"
      ]
     },
     "execution_count": 95,
     "metadata": {},
     "output_type": "execute_result"
    }
   ],
   "source": [
    "Data"
   ]
  },
  {
   "cell_type": "code",
   "execution_count": 98,
   "id": "82e9a3f4",
   "metadata": {},
   "outputs": [],
   "source": [
    "#Data[2]= '2'"
   ]
  },
  {
   "cell_type": "code",
   "execution_count": 102,
   "id": "a5a4c3db",
   "metadata": {},
   "outputs": [],
   "source": [
    "# Concatnation is the way we assing strings or letters to strings. Using example below \n",
    "\n",
    "name= \"Sam\""
   ]
  },
  {
   "cell_type": "code",
   "execution_count": 103,
   "id": "93a41e99",
   "metadata": {},
   "outputs": [],
   "source": [
    "last_letters = name[1:]"
   ]
  },
  {
   "cell_type": "code",
   "execution_count": 104,
   "id": "e4938321",
   "metadata": {},
   "outputs": [
    {
     "data": {
      "text/plain": [
       "'am'"
      ]
     },
     "execution_count": 104,
     "metadata": {},
     "output_type": "execute_result"
    }
   ],
   "source": [
    "last_letters"
   ]
  },
  {
   "cell_type": "code",
   "execution_count": 105,
   "id": "50bbfc1d",
   "metadata": {},
   "outputs": [
    {
     "data": {
      "text/plain": [
       "'Pam'"
      ]
     },
     "execution_count": 105,
     "metadata": {},
     "output_type": "execute_result"
    }
   ],
   "source": [
    "'P' + last_letters"
   ]
  },
  {
   "cell_type": "code",
   "execution_count": 106,
   "id": "965307bb",
   "metadata": {},
   "outputs": [],
   "source": [
    "# More concatonation examples\n",
    "\n",
    "x= 'Hello World'"
   ]
  },
  {
   "cell_type": "code",
   "execution_count": 118,
   "id": "8ce0f23e",
   "metadata": {},
   "outputs": [
    {
     "data": {
      "text/plain": [
       "'Hello World I am going to be very rich and still healthy in the year 2024'"
      ]
     },
     "execution_count": 118,
     "metadata": {},
     "output_type": "execute_result"
    }
   ],
   "source": [
    "x   +  \" I am going to be very rich and still healthy in the year 2024\""
   ]
  },
  {
   "cell_type": "code",
   "execution_count": 119,
   "id": "08b38591",
   "metadata": {},
   "outputs": [],
   "source": [
    "# You can also multiply under string concatonations\n",
    "\n",
    "letter= 'z'"
   ]
  },
  {
   "cell_type": "code",
   "execution_count": 120,
   "id": "e3bbde91",
   "metadata": {},
   "outputs": [
    {
     "data": {
      "text/plain": [
       "'zzzzzzzzzzzzzzzzzz'"
      ]
     },
     "execution_count": 120,
     "metadata": {},
     "output_type": "execute_result"
    }
   ],
   "source": [
    "letter * 18"
   ]
  },
  {
   "cell_type": "code",
   "execution_count": 121,
   "id": "f5bf8d38",
   "metadata": {},
   "outputs": [],
   "source": [
    "x= \"hello world\""
   ]
  },
  {
   "cell_type": "code",
   "execution_count": 122,
   "id": "c7d4eea3",
   "metadata": {},
   "outputs": [
    {
     "data": {
      "text/plain": [
       "'HELLO WORLD'"
      ]
     },
     "execution_count": 122,
     "metadata": {},
     "output_type": "execute_result"
    }
   ],
   "source": [
    "x.upper()"
   ]
  },
  {
   "cell_type": "code",
   "execution_count": 123,
   "id": "6d412192",
   "metadata": {},
   "outputs": [
    {
     "data": {
      "text/plain": [
       "'hello world'"
      ]
     },
     "execution_count": 123,
     "metadata": {},
     "output_type": "execute_result"
    }
   ],
   "source": [
    "x.lower()"
   ]
  },
  {
   "cell_type": "code",
   "execution_count": 124,
   "id": "d3184c4a",
   "metadata": {},
   "outputs": [
    {
     "data": {
      "text/plain": [
       "['hello', 'world']"
      ]
     },
     "execution_count": 124,
     "metadata": {},
     "output_type": "execute_result"
    }
   ],
   "source": [
    "x.split()"
   ]
  },
  {
   "cell_type": "code",
   "execution_count": 125,
   "id": "f5f28144",
   "metadata": {},
   "outputs": [
    {
     "data": {
      "text/plain": [
       "['hell', ' w', 'rld']"
      ]
     },
     "execution_count": 125,
     "metadata": {},
     "output_type": "execute_result"
    }
   ],
   "source": [
    "x.split('o')"
   ]
  },
  {
   "cell_type": "code",
   "execution_count": 126,
   "id": "e3d95160",
   "metadata": {},
   "outputs": [],
   "source": [
    "my_name = \"jose\"\n"
   ]
  },
  {
   "cell_type": "code",
   "execution_count": 129,
   "id": "6691c99d",
   "metadata": {},
   "outputs": [
    {
     "name": "stdout",
     "output_type": "stream",
     "text": [
      "Hellojose\n"
     ]
    }
   ],
   "source": [
    "print(\"Hello\"+   my_name)"
   ]
  },
  {
   "cell_type": "code",
   "execution_count": 133,
   "id": "58361a9f",
   "metadata": {},
   "outputs": [
    {
     "name": "stdout",
     "output_type": "stream",
     "text": [
      "This  is a string INSERTED\n"
     ]
    }
   ],
   "source": [
    "#Print and formatting Strings(.formatmethod or the fstring format method)\n",
    "\n",
    "print ('This  is a string {}'.format('INSERTED'))"
   ]
  },
  {
   "cell_type": "code",
   "execution_count": 135,
   "id": "39f43627",
   "metadata": {},
   "outputs": [
    {
     "name": "stdout",
     "output_type": "stream",
     "text": [
      "The fox brown quick\n"
     ]
    }
   ],
   "source": [
    "print('The {} {} {}'.format('fox','brown','quick'))"
   ]
  },
  {
   "cell_type": "code",
   "execution_count": 136,
   "id": "4e0647b3",
   "metadata": {},
   "outputs": [
    {
     "name": "stdout",
     "output_type": "stream",
     "text": [
      "The quick fox brown\n"
     ]
    }
   ],
   "source": [
    "print('The {2} {0} {1}'.format('fox','brown','quick'))"
   ]
  },
  {
   "cell_type": "code",
   "execution_count": 137,
   "id": "0bf82c8e",
   "metadata": {},
   "outputs": [
    {
     "name": "stdout",
     "output_type": "stream",
     "text": [
      "The brown brown brown\n"
     ]
    }
   ],
   "source": [
    "print('The {1} {1} {1}'.format('fox','brown','quick'))"
   ]
  },
  {
   "cell_type": "code",
   "execution_count": 139,
   "id": "8fcfdd82",
   "metadata": {},
   "outputs": [
    {
     "name": "stdout",
     "output_type": "stream",
     "text": [
      "The quick brown fox\n"
     ]
    }
   ],
   "source": [
    "print('The {q} {b} {f}'.format(f='fox',b='brown',q='quick'))"
   ]
  },
  {
   "cell_type": "markdown",
   "id": "e5a74fcd",
   "metadata": {},
   "source": [
    "result= 100/777"
   ]
  },
  {
   "cell_type": "code",
   "execution_count": 140,
   "id": "49845dfc",
   "metadata": {},
   "outputs": [],
   "source": [
    "# Float Formatting using .format method follows \"{value:width.precision f}\"\n",
    "\n",
    "result= 100/777"
   ]
  },
  {
   "cell_type": "code",
   "execution_count": 141,
   "id": "74481098",
   "metadata": {},
   "outputs": [
    {
     "data": {
      "text/plain": [
       "0.1287001287001287"
      ]
     },
     "execution_count": 141,
     "metadata": {},
     "output_type": "execute_result"
    }
   ],
   "source": [
    "result"
   ]
  },
  {
   "cell_type": "code",
   "execution_count": 142,
   "id": "892d11ea",
   "metadata": {},
   "outputs": [
    {
     "name": "stdout",
     "output_type": "stream",
     "text": [
      "The result was 0.1287001287001287\n"
     ]
    }
   ],
   "source": [
    "print(\"The result was {}\".format(result))"
   ]
  },
  {
   "cell_type": "code",
   "execution_count": 143,
   "id": "811dbf19",
   "metadata": {},
   "outputs": [
    {
     "name": "stdout",
     "output_type": "stream",
     "text": [
      "The result was 0.1287001287001287\n"
     ]
    }
   ],
   "source": [
    "print(\"The result was {r}\".format(r=result))"
   ]
  },
  {
   "cell_type": "code",
   "execution_count": 144,
   "id": "4d945bba",
   "metadata": {},
   "outputs": [
    {
     "name": "stdout",
     "output_type": "stream",
     "text": [
      "The result was 0.129\n"
     ]
    }
   ],
   "source": [
    "# The Float Formatting follows \"{value:width.precision f}\" is shown below in {r:1.3f}:\n",
    "print(\"The result was {r:1.3f}\".format(r=result))\n"
   ]
  },
  {
   "cell_type": "code",
   "execution_count": 162,
   "id": "554e94ae",
   "metadata": {},
   "outputs": [],
   "source": [
    "# Using the F string Methods\n",
    "\n",
    "name = \"Kay\""
   ]
  },
  {
   "cell_type": "code",
   "execution_count": 163,
   "id": "603279e7",
   "metadata": {},
   "outputs": [
    {
     "name": "stdout",
     "output_type": "stream",
     "text": [
      "Hello, his name is Kay\n"
     ]
    }
   ],
   "source": [
    "print(f'Hello, his name is {name}')"
   ]
  },
  {
   "cell_type": "code",
   "execution_count": 169,
   "id": "cf831e01",
   "metadata": {},
   "outputs": [
    {
     "data": {
      "text/plain": [
       "'Kay'"
      ]
     },
     "execution_count": 169,
     "metadata": {},
     "output_type": "execute_result"
    }
   ],
   "source": [
    "name"
   ]
  },
  {
   "cell_type": "code",
   "execution_count": null,
   "id": "5bb823d1",
   "metadata": {},
   "outputs": [],
   "source": [
    "age = 39"
   ]
  },
  {
   "cell_type": "code",
   "execution_count": 167,
   "id": "7ecdd451",
   "metadata": {},
   "outputs": [
    {
     "name": "stdout",
     "output_type": "stream",
     "text": [
      "Kay is 39 years old.\n"
     ]
    }
   ],
   "source": [
    "print(f'{name} is {age} years old.')"
   ]
  },
  {
   "cell_type": "code",
   "execution_count": 151,
   "id": "4b47c30b",
   "metadata": {},
   "outputs": [],
   "source": [
    "height = 178"
   ]
  },
  {
   "cell_type": "code",
   "execution_count": 168,
   "id": "37c90fcc",
   "metadata": {},
   "outputs": [
    {
     "name": "stdout",
     "output_type": "stream",
     "text": [
      "Kay is 39 years old and 178 cm tall.\n"
     ]
    }
   ],
   "source": [
    "print(f'{name} is {age} years old and {height} cm tall.')"
   ]
  },
  {
   "cell_type": "code",
   "execution_count": 159,
   "id": "213a61ce",
   "metadata": {},
   "outputs": [],
   "source": [
    "# LIST IN PYTHON\n",
    "my_list = [1,2,3]"
   ]
  },
  {
   "cell_type": "code",
   "execution_count": 160,
   "id": "7de42cc5",
   "metadata": {},
   "outputs": [],
   "source": [
    "# list bcombines different data types as seen below\n",
    "my_list = [\"STRING\",100,23.2]"
   ]
  },
  {
   "cell_type": "code",
   "execution_count": 161,
   "id": "35321668",
   "metadata": {},
   "outputs": [
    {
     "data": {
      "text/plain": [
       "3"
      ]
     },
     "execution_count": 161,
     "metadata": {},
     "output_type": "execute_result"
    }
   ],
   "source": [
    "len(my_list)"
   ]
  },
  {
   "cell_type": "code",
   "execution_count": 172,
   "id": "9fd74a28",
   "metadata": {},
   "outputs": [
    {
     "data": {
      "text/plain": [
       "23.2"
      ]
     },
     "execution_count": 172,
     "metadata": {},
     "output_type": "execute_result"
    }
   ],
   "source": [
    "my_list[2]"
   ]
  },
  {
   "cell_type": "code",
   "execution_count": 173,
   "id": "8c504af2",
   "metadata": {},
   "outputs": [],
   "source": [
    "another_list= ['four',8,00.31]"
   ]
  },
  {
   "cell_type": "code",
   "execution_count": 174,
   "id": "a18e6dca",
   "metadata": {},
   "outputs": [
    {
     "data": {
      "text/plain": [
       "['STRING', 100, 23.2, 'four', 8, 0.31]"
      ]
     },
     "execution_count": 174,
     "metadata": {},
     "output_type": "execute_result"
    }
   ],
   "source": [
    "my_list + another_list"
   ]
  },
  {
   "cell_type": "code",
   "execution_count": 177,
   "id": "1bb72d37",
   "metadata": {},
   "outputs": [],
   "source": [
    "New_List= my_list+ another_list"
   ]
  },
  {
   "cell_type": "code",
   "execution_count": 178,
   "id": "4b482b07",
   "metadata": {},
   "outputs": [
    {
     "data": {
      "text/plain": [
       "['STRING', 100, 23.2, 'four', 8, 0.31]"
      ]
     },
     "execution_count": 178,
     "metadata": {},
     "output_type": "execute_result"
    }
   ],
   "source": [
    "New_List"
   ]
  },
  {
   "cell_type": "code",
   "execution_count": 184,
   "id": "a6ea170a",
   "metadata": {},
   "outputs": [],
   "source": [
    "# List is one of the data types that can be mutable. example below we change from 'STRING' to 'int'\n",
    "\n",
    "New_List[0]= 'int'"
   ]
  },
  {
   "cell_type": "code",
   "execution_count": 185,
   "id": "36ffef30",
   "metadata": {},
   "outputs": [
    {
     "data": {
      "text/plain": [
       "['int', 100, 23.2, 'four', 8, 0.31]"
      ]
     },
     "execution_count": 185,
     "metadata": {},
     "output_type": "execute_result"
    }
   ],
   "source": [
    "# Here we did not need to use concatonation or slicing to mutate\n",
    "\n",
    "New_List"
   ]
  },
  {
   "cell_type": "code",
   "execution_count": 188,
   "id": "b81c0657",
   "metadata": {},
   "outputs": [],
   "source": [
    "# append just  type the  new_List and dot infront and tab it will givea list of menu then choose append \n",
    "# Appens adds a new item to the end of the list as shown in example below adding six\n",
    "New_List.append(\"six\")"
   ]
  },
  {
   "cell_type": "code",
   "execution_count": 189,
   "id": "1979aa8e",
   "metadata": {},
   "outputs": [
    {
     "data": {
      "text/plain": [
       "['int', 100, 23.2, 'four', 8, 0.31, 'six']"
      ]
     },
     "execution_count": 189,
     "metadata": {},
     "output_type": "execute_result"
    }
   ],
   "source": [
    "New_List"
   ]
  },
  {
   "cell_type": "code",
   "execution_count": 193,
   "id": "bc16c2aa",
   "metadata": {},
   "outputs": [
    {
     "data": {
      "text/plain": [
       "'six'"
      ]
     },
     "execution_count": 193,
     "metadata": {},
     "output_type": "execute_result"
    }
   ],
   "source": [
    "# the pop function which is also in the list menu is used to remove the last item on the list\n",
    "# It is shown below, unlike when adding you write the item in the parenthesis when poping you leave it blank\n",
    "# However if you do not want to remove from the back gthen you put the index number of what you want in the parenthesis\n",
    "New_List.pop()"
   ]
  },
  {
   "cell_type": "code",
   "execution_count": 194,
   "id": "ae0d8a80",
   "metadata": {},
   "outputs": [
    {
     "data": {
      "text/plain": [
       "['int', 100, 23.2, 'four', 8, 0.31]"
      ]
     },
     "execution_count": 194,
     "metadata": {},
     "output_type": "execute_result"
    }
   ],
   "source": [
    "New_List"
   ]
  },
  {
   "cell_type": "code",
   "execution_count": 195,
   "id": "4b4f059f",
   "metadata": {},
   "outputs": [
    {
     "data": {
      "text/plain": [
       "'four'"
      ]
     },
     "execution_count": 195,
     "metadata": {},
     "output_type": "execute_result"
    }
   ],
   "source": [
    "# specify what to remove, we remove 'four' from gthe list itb is the 3rd index\n",
    "New_List.pop(3)"
   ]
  },
  {
   "cell_type": "code",
   "execution_count": 196,
   "id": "967fb29f",
   "metadata": {},
   "outputs": [
    {
     "data": {
      "text/plain": [
       "['int', 100, 23.2, 8, 0.31]"
      ]
     },
     "execution_count": 196,
     "metadata": {},
     "output_type": "execute_result"
    }
   ],
   "source": [
    "New_List"
   ]
  },
  {
   "cell_type": "code",
   "execution_count": 197,
   "id": "028d304d",
   "metadata": {},
   "outputs": [],
   "source": [
    "\n",
    "# Sorting in order and also revresing we use sort and reverse function\n",
    "\n",
    "\n",
    "New_List = ['a','e','x','b','c']\n",
    "Num_List=[4,1,8,3]"
   ]
  },
  {
   "cell_type": "code",
   "execution_count": 198,
   "id": "bba52a3e",
   "metadata": {},
   "outputs": [],
   "source": [
    "New_List.sort()"
   ]
  },
  {
   "cell_type": "code",
   "execution_count": 199,
   "id": "3c338627",
   "metadata": {},
   "outputs": [
    {
     "data": {
      "text/plain": [
       "['a', 'b', 'c', 'e', 'x']"
      ]
     },
     "execution_count": 199,
     "metadata": {},
     "output_type": "execute_result"
    }
   ],
   "source": [
    "New_List"
   ]
  },
  {
   "cell_type": "code",
   "execution_count": 200,
   "id": "a26a354b",
   "metadata": {},
   "outputs": [],
   "source": [
    "Num_List.reverse()            "
   ]
  },
  {
   "cell_type": "code",
   "execution_count": 201,
   "id": "c1ba4273",
   "metadata": {},
   "outputs": [
    {
     "data": {
      "text/plain": [
       "[3, 8, 1, 4]"
      ]
     },
     "execution_count": 201,
     "metadata": {},
     "output_type": "execute_result"
    }
   ],
   "source": [
    "Num_List"
   ]
  },
  {
   "cell_type": "code",
   "execution_count": null,
   "id": "66ceea79",
   "metadata": {},
   "outputs": [],
   "source": [
    "# DICTIONARIES"
   ]
  }
 ],
 "metadata": {
  "kernelspec": {
   "display_name": "Python 3 (ipykernel)",
   "language": "python",
   "name": "python3"
  },
  "language_info": {
   "codemirror_mode": {
    "name": "ipython",
    "version": 3
   },
   "file_extension": ".py",
   "mimetype": "text/x-python",
   "name": "python",
   "nbconvert_exporter": "python",
   "pygments_lexer": "ipython3",
   "version": "3.11.5"
  }
 },
 "nbformat": 4,
 "nbformat_minor": 5
}
