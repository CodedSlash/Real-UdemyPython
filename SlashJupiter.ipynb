{
  "cells": [
    {
      "cell_type": "markdown",
      "metadata": {
        "id": "view-in-github",
        "colab_type": "text"
      },
      "source": [
        "<a href=\"https://colab.research.google.com/github/CodedSlash/Real-UdemyPython/blob/main/SlashJupiter.ipynb\" target=\"_parent\"><img src=\"https://colab.research.google.com/assets/colab-badge.svg\" alt=\"Open In Colab\"/></a>"
      ]
    },
    {
      "cell_type": "code",
      "execution_count": null,
      "id": "36055e25",
      "metadata": {
        "id": "36055e25",
        "outputId": "7d748289-a98f-469a-e4ca-2a422503f781"
      },
      "outputs": [
        {
          "data": {
            "text/plain": [
              "3"
            ]
          },
          "execution_count": 1,
          "metadata": {},
          "output_type": "execute_result"
        }
      ],
      "source": [
        "2+1\n"
      ]
    },
    {
      "cell_type": "code",
      "execution_count": null,
      "id": "19f0cbc3",
      "metadata": {
        "id": "19f0cbc3",
        "outputId": "15f6f736-d374-4d13-b14c-40f4b8b2a4c9"
      },
      "outputs": [
        {
          "data": {
            "text/plain": [
              "1"
            ]
          },
          "execution_count": 2,
          "metadata": {},
          "output_type": "execute_result"
        }
      ],
      "source": [
        "2-1\n"
      ]
    },
    {
      "cell_type": "markdown",
      "id": "59ebe643",
      "metadata": {
        "id": "59ebe643"
      },
      "source": [
        "3/2\n"
      ]
    },
    {
      "cell_type": "code",
      "execution_count": null,
      "id": "ac43d21d",
      "metadata": {
        "id": "ac43d21d",
        "outputId": "2f016351-d2b2-4592-f8fe-cc22dd8edc03"
      },
      "outputs": [
        {
          "data": {
            "text/plain": [
              "4"
            ]
          },
          "execution_count": 3,
          "metadata": {},
          "output_type": "execute_result"
        }
      ],
      "source": [
        "2+2"
      ]
    },
    {
      "cell_type": "code",
      "execution_count": null,
      "id": "5ccaa24b",
      "metadata": {
        "id": "5ccaa24b",
        "outputId": "d32ed09c-609c-4228-ff72-1dc274036405"
      },
      "outputs": [
        {
          "data": {
            "text/plain": [
              "1.5"
            ]
          },
          "execution_count": 4,
          "metadata": {},
          "output_type": "execute_result"
        }
      ],
      "source": [
        "3/2"
      ]
    },
    {
      "cell_type": "code",
      "execution_count": null,
      "id": "92761e5f",
      "metadata": {
        "id": "92761e5f",
        "outputId": "30bc6f29-1139-4d3b-904d-dcf81da09310"
      },
      "outputs": [
        {
          "data": {
            "text/plain": [
              "1.75"
            ]
          },
          "execution_count": 5,
          "metadata": {},
          "output_type": "execute_result"
        }
      ],
      "source": [
        "7/4"
      ]
    },
    {
      "cell_type": "code",
      "execution_count": null,
      "id": "8af64e96",
      "metadata": {
        "id": "8af64e96",
        "outputId": "614a01e4-9368-4b08-ff7d-b7d370258357"
      },
      "outputs": [
        {
          "data": {
            "text/plain": [
              "3"
            ]
          },
          "execution_count": 6,
          "metadata": {},
          "output_type": "execute_result"
        }
      ],
      "source": [
        "# Checks the remainder 7 divide by 4 is 4 times 1 = 4 and 3 reamining\n",
        "20 divide by 2 is exactly 10 with no remainder so 20 % 2 will be  equals to 0\n",
        "\n",
        "\n",
        "7 % 4"
      ]
    },
    {
      "cell_type": "code",
      "execution_count": null,
      "id": "688fab34",
      "metadata": {
        "id": "688fab34",
        "outputId": "1b7d5d24-1082-4eff-a254-1a87ed0da18c"
      },
      "outputs": [
        {
          "data": {
            "text/plain": [
              "8"
            ]
          },
          "execution_count": 7,
          "metadata": {},
          "output_type": "execute_result"
        }
      ],
      "source": [
        "2 ** 3"
      ]
    },
    {
      "cell_type": "code",
      "execution_count": null,
      "id": "6a39b138",
      "metadata": {
        "id": "6a39b138",
        "outputId": "695069c9-744e-418d-92b3-b786e5b5ebc3"
      },
      "outputs": [
        {
          "data": {
            "text/plain": [
              "105"
            ]
          },
          "execution_count": 8,
          "metadata": {},
          "output_type": "execute_result"
        }
      ],
      "source": [
        "2+10*10+3"
      ]
    },
    {
      "cell_type": "code",
      "execution_count": null,
      "id": "d038a499",
      "metadata": {
        "id": "d038a499",
        "outputId": "8817b202-4d41-4a8b-8bd8-9c548caee763"
      },
      "outputs": [
        {
          "data": {
            "text/plain": [
              "156"
            ]
          },
          "execution_count": 9,
          "metadata": {},
          "output_type": "execute_result"
        }
      ],
      "source": [
        "# It uses BODMAS known as PEDMAS in US (Parentheses-Exponents-Multiplication-Addistion-Subtraction)\n",
        "\n",
        "\n",
        "(2+10)*(10+3)"
      ]
    },
    {
      "cell_type": "code",
      "execution_count": null,
      "id": "fd5908c3",
      "metadata": {
        "id": "fd5908c3",
        "outputId": "98084715-9f06-4e97-9134-dfa7029a6af8"
      },
      "outputs": [
        {
          "data": {
            "text/plain": [
              "0.125"
            ]
          },
          "execution_count": 10,
          "metadata": {},
          "output_type": "execute_result"
        }
      ],
      "source": [
        "1/10+2/100+5/1000"
      ]
    },
    {
      "cell_type": "code",
      "execution_count": null,
      "id": "982a38dc",
      "metadata": {
        "id": "982a38dc",
        "outputId": "63853fa5-aaf9-461f-8a5a-3aea1107794c"
      },
      "outputs": [
        {
          "data": {
            "text/plain": [
              "0.125"
            ]
          },
          "execution_count": 11,
          "metadata": {},
          "output_type": "execute_result"
        }
      ],
      "source": [
        "0/2+0/4+1/8"
      ]
    },
    {
      "cell_type": "code",
      "execution_count": null,
      "id": "959a4b0a",
      "metadata": {
        "id": "959a4b0a",
        "outputId": "6f9ebe98-82d4-4bde-c2e3-1aff0f5873da"
      },
      "outputs": [
        {
          "data": {
            "text/plain": [
              "2.67"
            ]
          },
          "execution_count": 12,
          "metadata": {},
          "output_type": "execute_result"
        }
      ],
      "source": [
        "round(2.675,2)"
      ]
    },
    {
      "cell_type": "code",
      "execution_count": null,
      "id": "371ea320",
      "metadata": {
        "id": "371ea320",
        "outputId": "81dff5af-ddac-45c0-c22b-f0f19934800c"
      },
      "outputs": [
        {
          "ename": "NameError",
          "evalue": "name 'decimal' is not defined",
          "output_type": "error",
          "traceback": [
            "\u001b[0;31m---------------------------------------------------------------------------\u001b[0m",
            "\u001b[0;31mNameError\u001b[0m                                 Traceback (most recent call last)",
            "Cell \u001b[0;32mIn[13], line 1\u001b[0m\n\u001b[0;32m----> 1\u001b[0m decimal(\u001b[38;5;241m2.675\u001b[39m)\n",
            "\u001b[0;31mNameError\u001b[0m: name 'decimal' is not defined"
          ]
        }
      ],
      "source": [
        "decimal(2.675)"
      ]
    },
    {
      "cell_type": "code",
      "execution_count": null,
      "id": "b74b7202",
      "metadata": {
        "id": "b74b7202"
      },
      "outputs": [],
      "source": [
        "from decimal import Decimal\n"
      ]
    },
    {
      "cell_type": "code",
      "execution_count": null,
      "id": "057a1cac",
      "metadata": {
        "id": "057a1cac",
        "outputId": "8de793fb-a594-474c-d792-fe7075e73878"
      },
      "outputs": [
        {
          "data": {
            "text/plain": [
              "Decimal('2.67499999999999982236431605997495353221893310546875')"
            ]
          },
          "execution_count": 15,
          "metadata": {},
          "output_type": "execute_result"
        }
      ],
      "source": [
        "Decimal(2.675)"
      ]
    },
    {
      "cell_type": "code",
      "execution_count": null,
      "id": "6ce149b5",
      "metadata": {
        "id": "6ce149b5"
      },
      "outputs": [],
      "source": [
        "#NAMES and VARIABLES\n",
        "\n",
        "a = 5\n"
      ]
    },
    {
      "cell_type": "code",
      "execution_count": null,
      "id": "fcfde640",
      "metadata": {
        "id": "fcfde640"
      },
      "outputs": [],
      "source": [
        "a = 5"
      ]
    },
    {
      "cell_type": "code",
      "execution_count": null,
      "id": "dfe9f164",
      "metadata": {
        "id": "dfe9f164",
        "outputId": "760d1584-084a-41a7-ac87-b46606bf6fde"
      },
      "outputs": [
        {
          "data": {
            "text/plain": [
              "5"
            ]
          },
          "execution_count": 18,
          "metadata": {},
          "output_type": "execute_result"
        }
      ],
      "source": [
        "a"
      ]
    },
    {
      "cell_type": "code",
      "execution_count": null,
      "id": "467c0e69",
      "metadata": {
        "id": "467c0e69"
      },
      "outputs": [],
      "source": [
        "a=10"
      ]
    },
    {
      "cell_type": "code",
      "execution_count": null,
      "id": "654f1beb",
      "metadata": {
        "id": "654f1beb",
        "outputId": "d7417267-3091-42c4-b69f-c42b20a12541"
      },
      "outputs": [
        {
          "data": {
            "text/plain": [
              "10"
            ]
          },
          "execution_count": 20,
          "metadata": {},
          "output_type": "execute_result"
        }
      ],
      "source": [
        "a"
      ]
    },
    {
      "cell_type": "code",
      "execution_count": null,
      "id": "b63a629f",
      "metadata": {
        "id": "b63a629f",
        "outputId": "4a00d403-579a-4523-8549-be40c1630662"
      },
      "outputs": [
        {
          "data": {
            "text/plain": [
              "20"
            ]
          },
          "execution_count": 21,
          "metadata": {},
          "output_type": "execute_result"
        }
      ],
      "source": [
        "a+a"
      ]
    },
    {
      "cell_type": "code",
      "execution_count": null,
      "id": "91c42c9c",
      "metadata": {
        "id": "91c42c9c"
      },
      "outputs": [],
      "source": [
        "a= a+a"
      ]
    },
    {
      "cell_type": "code",
      "execution_count": null,
      "id": "14bcfdfc",
      "metadata": {
        "id": "14bcfdfc",
        "outputId": "d9934e28-ebef-4af8-b9f4-85b6810d0b8c"
      },
      "outputs": [
        {
          "data": {
            "text/plain": [
              "160"
            ]
          },
          "execution_count": 33,
          "metadata": {},
          "output_type": "execute_result"
        }
      ],
      "source": [
        "a"
      ]
    },
    {
      "cell_type": "code",
      "execution_count": null,
      "id": "10a139de",
      "metadata": {
        "id": "10a139de",
        "outputId": "7728d399-735d-4436-c04a-27807e0f825c"
      },
      "outputs": [
        {
          "data": {
            "text/plain": [
              "20"
            ]
          },
          "execution_count": 24,
          "metadata": {},
          "output_type": "execute_result"
        }
      ],
      "source": [
        "a"
      ]
    },
    {
      "cell_type": "code",
      "execution_count": null,
      "id": "a4447bae",
      "metadata": {
        "id": "a4447bae",
        "outputId": "e34aeae4-1256-4afb-fe53-94fabe681ddf"
      },
      "outputs": [
        {
          "data": {
            "text/plain": [
              "20"
            ]
          },
          "execution_count": 25,
          "metadata": {},
          "output_type": "execute_result"
        }
      ],
      "source": [
        "a"
      ]
    },
    {
      "cell_type": "code",
      "execution_count": null,
      "id": "6580fad3",
      "metadata": {
        "id": "6580fad3",
        "outputId": "1c50ad07-3045-4865-8a6c-d3b086cf6945"
      },
      "outputs": [
        {
          "data": {
            "text/plain": [
              "int"
            ]
          },
          "execution_count": 34,
          "metadata": {},
          "output_type": "execute_result"
        }
      ],
      "source": [
        "type(a)"
      ]
    },
    {
      "cell_type": "code",
      "execution_count": null,
      "id": "c011070d",
      "metadata": {
        "id": "c011070d"
      },
      "outputs": [],
      "source": [
        "a=30.8"
      ]
    },
    {
      "cell_type": "code",
      "execution_count": null,
      "id": "38b38a9d",
      "metadata": {
        "id": "38b38a9d",
        "outputId": "626543ee-97c4-41c5-ef7e-9af9d72df27f"
      },
      "outputs": [
        {
          "data": {
            "text/plain": [
              "float"
            ]
          },
          "execution_count": 36,
          "metadata": {},
          "output_type": "execute_result"
        }
      ],
      "source": [
        "type(a)"
      ]
    },
    {
      "cell_type": "code",
      "execution_count": null,
      "id": "03f4d064",
      "metadata": {
        "id": "03f4d064"
      },
      "outputs": [],
      "source": [
        "my_income = 100\n",
        "tax_rate = 0.1\n",
        "my_taxes =my_income * tax_rate"
      ]
    },
    {
      "cell_type": "code",
      "execution_count": null,
      "id": "c61488d7",
      "metadata": {
        "id": "c61488d7"
      },
      "outputs": [],
      "source": [
        "my_income= 100\n",
        "tax_rate=0.1\n",
        "my_taxes=my_income*tax_rate"
      ]
    },
    {
      "cell_type": "code",
      "execution_count": null,
      "id": "e1372700",
      "metadata": {
        "id": "e1372700",
        "outputId": "8636b970-6771-4722-b2a8-4c809744dea1"
      },
      "outputs": [
        {
          "data": {
            "text/plain": [
              "10.0"
            ]
          },
          "execution_count": 39,
          "metadata": {},
          "output_type": "execute_result"
        }
      ],
      "source": [
        "my_taxes"
      ]
    },
    {
      "cell_type": "code",
      "execution_count": null,
      "id": "967e062f",
      "metadata": {
        "id": "967e062f"
      },
      "outputs": [],
      "source": [
        "my_income= 8300\n"
      ]
    },
    {
      "cell_type": "code",
      "execution_count": null,
      "id": "e3f9359b",
      "metadata": {
        "id": "e3f9359b",
        "outputId": "db16fdae-83ee-444d-b2fe-59733e18ecdc"
      },
      "outputs": [
        {
          "data": {
            "text/plain": [
              "10.0"
            ]
          },
          "execution_count": 41,
          "metadata": {},
          "output_type": "execute_result"
        }
      ],
      "source": [
        "my_taxes"
      ]
    },
    {
      "cell_type": "code",
      "execution_count": null,
      "id": "7d72a7b3",
      "metadata": {
        "id": "7d72a7b3",
        "outputId": "357dccec-799c-4518-aa78-ee920575ab89"
      },
      "outputs": [
        {
          "data": {
            "text/plain": [
              "'this is a string lecture'"
            ]
          },
          "execution_count": 57,
          "metadata": {},
          "output_type": "execute_result"
        }
      ],
      "source": [
        "# STRINGS LECTURE\n",
        "# Indexing and slicing\n",
        "\"this is a string lecture\""
      ]
    },
    {
      "cell_type": "code",
      "execution_count": null,
      "id": "9d76ce6f",
      "metadata": {
        "id": "9d76ce6f",
        "outputId": "3bc8a49e-3d51-4f80-84f4-05e67ea71604"
      },
      "outputs": [
        {
          "data": {
            "text/plain": [
              "'hello'"
            ]
          },
          "execution_count": 56,
          "metadata": {},
          "output_type": "execute_result"
        }
      ],
      "source": [
        "'hello'\n"
      ]
    },
    {
      "cell_type": "code",
      "execution_count": null,
      "id": "28c4622e",
      "metadata": {
        "id": "28c4622e",
        "outputId": "403b5af3-1773-4a5a-be36-665ac7ff95a5"
      },
      "outputs": [
        {
          "data": {
            "text/plain": [
              "'hello'"
            ]
          },
          "execution_count": 44,
          "metadata": {},
          "output_type": "execute_result"
        }
      ],
      "source": [
        "\"hello\""
      ]
    },
    {
      "cell_type": "code",
      "execution_count": null,
      "id": "4057274d",
      "metadata": {
        "id": "4057274d",
        "outputId": "c7fe49c0-dc48-49d4-ac71-3252d3d2ac04"
      },
      "outputs": [
        {
          "data": {
            "text/plain": [
              "\"i'm going home or can't I\""
            ]
          },
          "execution_count": 45,
          "metadata": {},
          "output_type": "execute_result"
        }
      ],
      "source": [
        "\"i'm going home or can't I\""
      ]
    },
    {
      "cell_type": "code",
      "execution_count": null,
      "id": "2d29c3d4",
      "metadata": {
        "id": "2d29c3d4",
        "outputId": "0dd9067d-d262-45ec-f273-da3dc9addf44"
      },
      "outputs": [
        {
          "data": {
            "text/plain": [
              "'hello world girls'"
            ]
          },
          "execution_count": 46,
          "metadata": {},
          "output_type": "execute_result"
        }
      ],
      "source": [
        "'hello world boys'\n",
        "'hello world girls'"
      ]
    },
    {
      "cell_type": "code",
      "execution_count": null,
      "id": "a3c77d06",
      "metadata": {
        "id": "a3c77d06",
        "outputId": "6355d544-138e-4e03-d08e-d988d4204d15"
      },
      "outputs": [
        {
          "name": "stdout",
          "output_type": "stream",
          "text": [
            "hello world boys\n",
            "hello world girls\n"
          ]
        }
      ],
      "source": [
        "# This shows the Use of Print, look t the example in 46 the output was just the 2nd line only but below both\n",
        "\n",
        "\n",
        "print('hello world boys')\n",
        "print('hello world girls')"
      ]
    },
    {
      "cell_type": "code",
      "execution_count": null,
      "id": "b3a70b8b",
      "metadata": {
        "id": "b3a70b8b",
        "outputId": "7d8ac3b4-38db-435e-a6a0-52f800ae08c0"
      },
      "outputs": [
        {
          "name": "stdout",
          "output_type": "stream",
          "text": [
            "hello world\n"
          ]
        }
      ],
      "source": [
        "print('hello world')"
      ]
    },
    {
      "cell_type": "code",
      "execution_count": null,
      "id": "38d3d767",
      "metadata": {
        "id": "38d3d767",
        "outputId": "656b6e04-210a-4d5e-c723-c1636d614fd8"
      },
      "outputs": [
        {
          "name": "stdout",
          "output_type": "stream",
          "text": [
            "hello \n",
            "world\n"
          ]
        }
      ],
      "source": [
        "# Here we see how to put characters like new line which is \\n or tab which \\t in between strings\n",
        "\n",
        "print('hello \\nworld')"
      ]
    },
    {
      "cell_type": "code",
      "execution_count": null,
      "id": "93bd8554",
      "metadata": {
        "id": "93bd8554",
        "outputId": "aa90da15-05d7-4513-c677-825684cf1bad"
      },
      "outputs": [
        {
          "name": "stdout",
          "output_type": "stream",
          "text": [
            "hello \t world\n"
          ]
        }
      ],
      "source": [
        "print('hello \\t world')"
      ]
    },
    {
      "cell_type": "code",
      "execution_count": null,
      "id": "99faa9ec",
      "metadata": {
        "id": "99faa9ec",
        "outputId": "00428c75-43c6-494b-c6fe-2629099eb4a8"
      },
      "outputs": [
        {
          "name": "stdout",
          "output_type": "stream",
          "text": [
            "hello \t     world\n"
          ]
        }
      ],
      "source": [
        "# The tab spacing can be adjusted by just increasing the space bewteen the strings same as the new line \\n\n",
        "\n",
        "\n",
        "\n",
        "print('hello \\t     world')"
      ]
    },
    {
      "cell_type": "code",
      "execution_count": null,
      "id": "f3509c6a",
      "metadata": {
        "id": "f3509c6a",
        "outputId": "7c83ad65-4409-4bbf-ab54-830f11b8dba8"
      },
      "outputs": [
        {
          "data": {
            "text/plain": [
              "5"
            ]
          },
          "execution_count": 53,
          "metadata": {},
          "output_type": "execute_result"
        }
      ],
      "source": [
        "# the len is the length of the character like hellombellow contains 5 characters and my baby is 7 it includes d space\n",
        "\n",
        "\n",
        "\n",
        "len('hello')"
      ]
    },
    {
      "cell_type": "code",
      "execution_count": null,
      "id": "f0e8841c",
      "metadata": {
        "id": "f0e8841c",
        "outputId": "b4a29154-fabf-4f7f-b37b-eab4ce7dd8c1"
      },
      "outputs": [
        {
          "data": {
            "text/plain": [
              "7"
            ]
          },
          "execution_count": 55,
          "metadata": {},
          "output_type": "execute_result"
        }
      ],
      "source": [
        "len('my baby')"
      ]
    },
    {
      "cell_type": "code",
      "execution_count": null,
      "id": "327a4cba",
      "metadata": {
        "id": "327a4cba"
      },
      "outputs": [],
      "source": [
        "#Indexing and Slicing\n",
        "\n",
        "mystring = \"Hello World\""
      ]
    },
    {
      "cell_type": "code",
      "execution_count": null,
      "id": "5a3671bc",
      "metadata": {
        "id": "5a3671bc",
        "outputId": "64436a12-1fce-47ca-95fb-c50c7d0a7c19"
      },
      "outputs": [
        {
          "data": {
            "text/plain": [
              "'Hello World'"
            ]
          },
          "execution_count": 60,
          "metadata": {},
          "output_type": "execute_result"
        }
      ],
      "source": [
        "mystring"
      ]
    },
    {
      "cell_type": "code",
      "execution_count": null,
      "id": "fa386b7f",
      "metadata": {
        "id": "fa386b7f",
        "outputId": "13ba2e5c-8ff4-41f9-af2b-6c6837abeff8"
      },
      "outputs": [
        {
          "data": {
            "text/plain": [
              "'r'"
            ]
          },
          "execution_count": 61,
          "metadata": {},
          "output_type": "execute_result"
        }
      ],
      "source": [
        "#Indexing shows the number of the character as show below 8 in hello world is letter r\n",
        "\n",
        "mystring[8]"
      ]
    },
    {
      "cell_type": "code",
      "execution_count": null,
      "id": "a09b200a",
      "metadata": {
        "id": "a09b200a",
        "outputId": "77b42fdf-9c9e-4ab7-b91b-37a4ddecd476"
      },
      "outputs": [
        {
          "data": {
            "text/plain": [
              "'d'"
            ]
          },
          "execution_count": 62,
          "metadata": {},
          "output_type": "execute_result"
        }
      ],
      "source": [
        "# strings could be indexed from behind as shown below -1 will be the d in Hellow world read from behind\n",
        "\n",
        "mystring[-1]"
      ]
    },
    {
      "cell_type": "code",
      "execution_count": null,
      "id": "8797434c",
      "metadata": {
        "id": "8797434c"
      },
      "outputs": [],
      "source": [
        "# slicing takes a part of the string, i.e 2 or more out of a character\n",
        "\n",
        "mystring= \"olukayode\""
      ]
    },
    {
      "cell_type": "code",
      "execution_count": null,
      "id": "85c5f0d0",
      "metadata": {
        "id": "85c5f0d0",
        "outputId": "9fd42728-2502-4aed-cdf6-15a1407c4217"
      },
      "outputs": [
        {
          "data": {
            "text/plain": [
              "'olukayode'"
            ]
          },
          "execution_count": 64,
          "metadata": {},
          "output_type": "execute_result"
        }
      ],
      "source": [
        "mystring"
      ]
    },
    {
      "cell_type": "code",
      "execution_count": null,
      "id": "db4024bb",
      "metadata": {
        "id": "db4024bb",
        "outputId": "d0c84e39-ba8e-4492-848c-706496c660bb"
      },
      "outputs": [
        {
          "data": {
            "text/plain": [
              "'k'"
            ]
          },
          "execution_count": 66,
          "metadata": {},
          "output_type": "execute_result"
        }
      ],
      "source": [
        "mystring[3]"
      ]
    },
    {
      "cell_type": "code",
      "execution_count": null,
      "id": "e7cb17ae",
      "metadata": {
        "id": "e7cb17ae",
        "outputId": "8fba5685-a5a6-4260-bf0b-1f74527ed264"
      },
      "outputs": [
        {
          "data": {
            "text/plain": [
              "8"
            ]
          },
          "execution_count": 67,
          "metadata": {},
          "output_type": "execute_result"
        }
      ],
      "source": [
        "len(\"mystring\")     #remember counts from 0"
      ]
    },
    {
      "cell_type": "code",
      "execution_count": null,
      "id": "345fd92f",
      "metadata": {
        "id": "345fd92f",
        "outputId": "aeb6d62c-9ac2-4db8-e1f6-a5b5ad1c0263"
      },
      "outputs": [
        {
          "data": {
            "text/plain": [
              "'kayode'"
            ]
          },
          "execution_count": 69,
          "metadata": {},
          "output_type": "execute_result"
        }
      ],
      "source": [
        "# Below shows from wherever we wantin the string to the end of the string and the other way round is further below\n",
        "\n",
        "\n",
        "mystring[3:]"
      ]
    },
    {
      "cell_type": "code",
      "execution_count": null,
      "id": "76e16532",
      "metadata": {
        "id": "76e16532",
        "outputId": "9ca39b76-ae97-449d-da82-38eeeb588bf5"
      },
      "outputs": [
        {
          "data": {
            "text/plain": [
              "'olu'"
            ]
          },
          "execution_count": 71,
          "metadata": {},
          "output_type": "execute_result"
        }
      ],
      "source": [
        "mystring[:3]"
      ]
    },
    {
      "cell_type": "code",
      "execution_count": null,
      "id": "33df398b",
      "metadata": {
        "id": "33df398b",
        "outputId": "445832b6-dd79-48ed-a677-58575c23d5c5"
      },
      "outputs": [
        {
          "data": {
            "text/plain": [
              "'kay'"
            ]
          },
          "execution_count": 73,
          "metadata": {},
          "output_type": "execute_result"
        }
      ],
      "source": [
        "mystring[3:6]"
      ]
    },
    {
      "cell_type": "code",
      "execution_count": null,
      "id": "947052da",
      "metadata": {
        "id": "947052da",
        "outputId": "2303e344-8790-4802-effb-dae2f3f5e45f"
      },
      "outputs": [
        {
          "data": {
            "text/plain": [
              "'olukayode'"
            ]
          },
          "execution_count": 74,
          "metadata": {},
          "output_type": "execute_result"
        }
      ],
      "source": [
        "# Below you can use to show the fulll string or just type out the variable mystring as usually do.\n",
        "# further below we see why this double colunm is used we use it for step slice as shown below we going 2 steps\n",
        "\n",
        "mystring[::]"
      ]
    },
    {
      "cell_type": "code",
      "execution_count": null,
      "id": "876807b5",
      "metadata": {
        "id": "876807b5",
        "outputId": "506e62f6-ae5d-48d6-87a0-eb9918a810f2"
      },
      "outputs": [
        {
          "data": {
            "text/plain": [
              "'ouaoe'"
            ]
          },
          "execution_count": 75,
          "metadata": {},
          "output_type": "execute_result"
        }
      ],
      "source": [
        "#Below we have used 2 steps slice from the begining of the string(2 loops)\n",
        "\n",
        "mystring[::2]"
      ]
    },
    {
      "cell_type": "code",
      "execution_count": null,
      "id": "14eb42c0",
      "metadata": {
        "id": "14eb42c0",
        "outputId": "44253b63-c8b6-494a-a9e8-524da407bf21"
      },
      "outputs": [
        {
          "data": {
            "text/plain": [
              "'oko'"
            ]
          },
          "execution_count": 76,
          "metadata": {},
          "output_type": "execute_result"
        }
      ],
      "source": [
        "mystring[::3]"
      ]
    },
    {
      "cell_type": "code",
      "execution_count": null,
      "id": "88c175e3",
      "metadata": {
        "id": "88c175e3",
        "outputId": "aebb317c-190e-4313-88de-dd3428d8066a"
      },
      "outputs": [
        {
          "data": {
            "text/plain": [
              "'lad'"
            ]
          },
          "execution_count": 83,
          "metadata": {},
          "output_type": "execute_result"
        }
      ],
      "source": [
        "# Below starts on 1 stops at 8 and moves by 3 steps\n",
        "\n",
        "mystring[1:8:3]"
      ]
    },
    {
      "cell_type": "code",
      "execution_count": null,
      "id": "27809d8a",
      "metadata": {
        "id": "27809d8a",
        "outputId": "a41d3d00-25d8-4625-a58d-232b07502074"
      },
      "outputs": [
        {
          "data": {
            "text/plain": [
              "'edoyakulo'"
            ]
          },
          "execution_count": 84,
          "metadata": {},
          "output_type": "execute_result"
        }
      ],
      "source": [
        "# Below is a statement saying all the way to the begining all the way to the end take a backward step\n",
        "\n",
        "mystring[::-1]"
      ]
    },
    {
      "cell_type": "code",
      "execution_count": null,
      "id": "32b73abc",
      "metadata": {
        "id": "32b73abc"
      },
      "outputs": [],
      "source": [
        "# [IMMUTABILITY: this shows that strings are data types in python that cannot be mutated, immitated or swapped\n",
        "# 94 to 98 is just checking this works but you cannot reassing a string(str) or an integer(int)\n",
        "\n",
        "Data= 381"
      ]
    },
    {
      "cell_type": "code",
      "execution_count": null,
      "id": "a73b8c2a",
      "metadata": {
        "id": "a73b8c2a",
        "outputId": "3a500482-517b-43a4-8990-be84199145b5"
      },
      "outputs": [
        {
          "data": {
            "text/plain": [
              "381"
            ]
          },
          "execution_count": 95,
          "metadata": {},
          "output_type": "execute_result"
        }
      ],
      "source": [
        "Data"
      ]
    },
    {
      "cell_type": "code",
      "execution_count": null,
      "id": "82e9a3f4",
      "metadata": {
        "id": "82e9a3f4"
      },
      "outputs": [],
      "source": [
        "#Data[2]= '2'"
      ]
    },
    {
      "cell_type": "code",
      "execution_count": null,
      "id": "a5a4c3db",
      "metadata": {
        "id": "a5a4c3db"
      },
      "outputs": [],
      "source": [
        "# Concatnation is the way we assing strings or letters to strings. Using example below\n",
        "\n",
        "name= \"Sam\""
      ]
    },
    {
      "cell_type": "code",
      "execution_count": null,
      "id": "93a41e99",
      "metadata": {
        "id": "93a41e99"
      },
      "outputs": [],
      "source": [
        "last_letters = name[1:]"
      ]
    },
    {
      "cell_type": "code",
      "execution_count": null,
      "id": "e4938321",
      "metadata": {
        "id": "e4938321",
        "outputId": "560a39c3-6ace-4f25-98be-6449741bb511"
      },
      "outputs": [
        {
          "data": {
            "text/plain": [
              "'am'"
            ]
          },
          "execution_count": 104,
          "metadata": {},
          "output_type": "execute_result"
        }
      ],
      "source": [
        "last_letters"
      ]
    },
    {
      "cell_type": "code",
      "execution_count": null,
      "id": "50bbfc1d",
      "metadata": {
        "id": "50bbfc1d",
        "outputId": "1367d448-03db-43b2-d9fc-58b3766f6581"
      },
      "outputs": [
        {
          "data": {
            "text/plain": [
              "'Pam'"
            ]
          },
          "execution_count": 105,
          "metadata": {},
          "output_type": "execute_result"
        }
      ],
      "source": [
        "'P' + last_letters"
      ]
    },
    {
      "cell_type": "code",
      "execution_count": null,
      "id": "965307bb",
      "metadata": {
        "id": "965307bb"
      },
      "outputs": [],
      "source": [
        "# More concatonation examples\n",
        "\n",
        "x= 'Hello World'"
      ]
    },
    {
      "cell_type": "code",
      "execution_count": null,
      "id": "8ce0f23e",
      "metadata": {
        "id": "8ce0f23e",
        "outputId": "04f8fae5-4af8-4611-c375-9cfb298ffc66"
      },
      "outputs": [
        {
          "data": {
            "text/plain": [
              "'Hello World I am going to be very rich and still healthy in the year 2024'"
            ]
          },
          "execution_count": 118,
          "metadata": {},
          "output_type": "execute_result"
        }
      ],
      "source": [
        "x   +  \" I am going to be very rich and still healthy in the year 2024\""
      ]
    },
    {
      "cell_type": "code",
      "execution_count": null,
      "id": "08b38591",
      "metadata": {
        "id": "08b38591"
      },
      "outputs": [],
      "source": [
        "# You can also multiply under string concatonations\n",
        "\n",
        "letter= 'z'"
      ]
    },
    {
      "cell_type": "code",
      "execution_count": null,
      "id": "e3bbde91",
      "metadata": {
        "id": "e3bbde91",
        "outputId": "36d64c86-d61b-4944-d51c-66d6bdef38a0"
      },
      "outputs": [
        {
          "data": {
            "text/plain": [
              "'zzzzzzzzzzzzzzzzzz'"
            ]
          },
          "execution_count": 120,
          "metadata": {},
          "output_type": "execute_result"
        }
      ],
      "source": [
        "letter * 18"
      ]
    },
    {
      "cell_type": "code",
      "execution_count": null,
      "id": "f5bf8d38",
      "metadata": {
        "id": "f5bf8d38"
      },
      "outputs": [],
      "source": [
        "x= \"hello world\""
      ]
    },
    {
      "cell_type": "code",
      "execution_count": null,
      "id": "c7d4eea3",
      "metadata": {
        "id": "c7d4eea3",
        "outputId": "9afcc7c9-0593-4853-c0ae-b2ddf6d8cad2"
      },
      "outputs": [
        {
          "data": {
            "text/plain": [
              "'HELLO WORLD'"
            ]
          },
          "execution_count": 122,
          "metadata": {},
          "output_type": "execute_result"
        }
      ],
      "source": [
        "x.upper()"
      ]
    },
    {
      "cell_type": "code",
      "execution_count": null,
      "id": "6d412192",
      "metadata": {
        "id": "6d412192",
        "outputId": "1f88c168-5e35-4101-b903-43755c7e7b09"
      },
      "outputs": [
        {
          "data": {
            "text/plain": [
              "'hello world'"
            ]
          },
          "execution_count": 123,
          "metadata": {},
          "output_type": "execute_result"
        }
      ],
      "source": [
        "x.lower()"
      ]
    },
    {
      "cell_type": "code",
      "execution_count": null,
      "id": "d3184c4a",
      "metadata": {
        "id": "d3184c4a",
        "outputId": "47bee6a5-53de-4db3-faab-b1f0fb13030e"
      },
      "outputs": [
        {
          "data": {
            "text/plain": [
              "['hello', 'world']"
            ]
          },
          "execution_count": 124,
          "metadata": {},
          "output_type": "execute_result"
        }
      ],
      "source": [
        "x.split()"
      ]
    },
    {
      "cell_type": "code",
      "execution_count": null,
      "id": "f5f28144",
      "metadata": {
        "id": "f5f28144",
        "outputId": "6ee7c9b6-89e9-4cf7-e347-d133a8819227"
      },
      "outputs": [
        {
          "data": {
            "text/plain": [
              "['hell', ' w', 'rld']"
            ]
          },
          "execution_count": 125,
          "metadata": {},
          "output_type": "execute_result"
        }
      ],
      "source": [
        "x.split('o')"
      ]
    },
    {
      "cell_type": "code",
      "execution_count": null,
      "id": "e3d95160",
      "metadata": {
        "id": "e3d95160"
      },
      "outputs": [],
      "source": [
        "my_name = \"jose\"\n"
      ]
    },
    {
      "cell_type": "code",
      "execution_count": null,
      "id": "6691c99d",
      "metadata": {
        "id": "6691c99d",
        "outputId": "e3c75ef0-4405-4a52-a595-802905cb9aac"
      },
      "outputs": [
        {
          "name": "stdout",
          "output_type": "stream",
          "text": [
            "Hellojose\n"
          ]
        }
      ],
      "source": [
        "print(\"Hello\"+   my_name)"
      ]
    },
    {
      "cell_type": "code",
      "execution_count": null,
      "id": "58361a9f",
      "metadata": {
        "id": "58361a9f",
        "outputId": "9622f4d0-9606-43ab-e5ec-99455dd7a877"
      },
      "outputs": [
        {
          "name": "stdout",
          "output_type": "stream",
          "text": [
            "This  is a string INSERTED\n"
          ]
        }
      ],
      "source": [
        "#Print and formatting Strings(.formatmethod or the fstring format method)\n",
        "\n",
        "print ('This  is a string {}'.format('INSERTED'))"
      ]
    },
    {
      "cell_type": "code",
      "execution_count": null,
      "id": "39f43627",
      "metadata": {
        "id": "39f43627",
        "outputId": "147b1eda-27a8-4d20-b9f5-3a55b24f5d89"
      },
      "outputs": [
        {
          "name": "stdout",
          "output_type": "stream",
          "text": [
            "The fox brown quick\n"
          ]
        }
      ],
      "source": [
        "print('The {} {} {}'.format('fox','brown','quick'))"
      ]
    },
    {
      "cell_type": "code",
      "execution_count": null,
      "id": "4e0647b3",
      "metadata": {
        "id": "4e0647b3",
        "outputId": "f40d1542-3ebf-465b-a5e8-096c9ceadafe"
      },
      "outputs": [
        {
          "name": "stdout",
          "output_type": "stream",
          "text": [
            "The quick fox brown\n"
          ]
        }
      ],
      "source": [
        "print('The {2} {0} {1}'.format('fox','brown','quick'))"
      ]
    },
    {
      "cell_type": "code",
      "execution_count": null,
      "id": "0bf82c8e",
      "metadata": {
        "id": "0bf82c8e",
        "outputId": "50d4b7b5-63e0-4a21-c537-59c3b20788a8"
      },
      "outputs": [
        {
          "name": "stdout",
          "output_type": "stream",
          "text": [
            "The brown brown brown\n"
          ]
        }
      ],
      "source": [
        "print('The {1} {1} {1}'.format('fox','brown','quick'))"
      ]
    },
    {
      "cell_type": "code",
      "execution_count": null,
      "id": "8fcfdd82",
      "metadata": {
        "id": "8fcfdd82",
        "outputId": "6dd22b05-cc65-4d9a-f25b-3686eed159bc"
      },
      "outputs": [
        {
          "name": "stdout",
          "output_type": "stream",
          "text": [
            "The quick brown fox\n"
          ]
        }
      ],
      "source": [
        "print('The {q} {b} {f}'.format(f='fox',b='brown',q='quick'))"
      ]
    },
    {
      "cell_type": "markdown",
      "id": "e5a74fcd",
      "metadata": {
        "id": "e5a74fcd"
      },
      "source": [
        "result= 100/777"
      ]
    },
    {
      "cell_type": "code",
      "execution_count": null,
      "id": "49845dfc",
      "metadata": {
        "id": "49845dfc"
      },
      "outputs": [],
      "source": [
        "# Float Formatting using .format method follows \"{value:width.precision f}\"\n",
        "\n",
        "result= 100/777"
      ]
    },
    {
      "cell_type": "code",
      "execution_count": null,
      "id": "74481098",
      "metadata": {
        "id": "74481098",
        "outputId": "6f7258cb-fc52-46cf-d8dc-09b8bc50a681"
      },
      "outputs": [
        {
          "data": {
            "text/plain": [
              "0.1287001287001287"
            ]
          },
          "execution_count": 141,
          "metadata": {},
          "output_type": "execute_result"
        }
      ],
      "source": [
        "result"
      ]
    },
    {
      "cell_type": "code",
      "execution_count": null,
      "id": "892d11ea",
      "metadata": {
        "id": "892d11ea",
        "outputId": "b2d7df6f-0a31-4e4b-9bef-a63c2f84ef5a"
      },
      "outputs": [
        {
          "name": "stdout",
          "output_type": "stream",
          "text": [
            "The result was 0.1287001287001287\n"
          ]
        }
      ],
      "source": [
        "print(\"The result was {}\".format(result))"
      ]
    },
    {
      "cell_type": "code",
      "execution_count": null,
      "id": "811dbf19",
      "metadata": {
        "id": "811dbf19",
        "outputId": "6b2c44db-fe5f-41b5-f03d-99af84560f02"
      },
      "outputs": [
        {
          "name": "stdout",
          "output_type": "stream",
          "text": [
            "The result was 0.1287001287001287\n"
          ]
        }
      ],
      "source": [
        "print(\"The result was {r}\".format(r=result))"
      ]
    },
    {
      "cell_type": "code",
      "execution_count": null,
      "id": "4d945bba",
      "metadata": {
        "id": "4d945bba",
        "outputId": "c9520f3a-e42e-463c-b2f1-971a31dca9e2"
      },
      "outputs": [
        {
          "name": "stdout",
          "output_type": "stream",
          "text": [
            "The result was 0.129\n"
          ]
        }
      ],
      "source": [
        "# The Float Formatting follows \"{value:width.precision f}\" is shown below in {r:1.3f}:\n",
        "print(\"The result was {r:1.3f}\".format(r=result))\n"
      ]
    },
    {
      "cell_type": "code",
      "execution_count": null,
      "id": "554e94ae",
      "metadata": {
        "id": "554e94ae"
      },
      "outputs": [],
      "source": [
        "# Using the F string Methods\n",
        "\n",
        "name = \"Kay\""
      ]
    },
    {
      "cell_type": "code",
      "execution_count": null,
      "id": "603279e7",
      "metadata": {
        "id": "603279e7",
        "outputId": "60594e1c-e610-44ff-831f-1af6cbcafc46"
      },
      "outputs": [
        {
          "name": "stdout",
          "output_type": "stream",
          "text": [
            "Hello, his name is Kay\n"
          ]
        }
      ],
      "source": [
        "print(f'Hello, his name is {name}')"
      ]
    },
    {
      "cell_type": "code",
      "execution_count": null,
      "id": "cf831e01",
      "metadata": {
        "id": "cf831e01",
        "outputId": "64f3b45e-392f-4247-b784-869d6145589a"
      },
      "outputs": [
        {
          "data": {
            "text/plain": [
              "'Kay'"
            ]
          },
          "execution_count": 169,
          "metadata": {},
          "output_type": "execute_result"
        }
      ],
      "source": [
        "name"
      ]
    },
    {
      "cell_type": "code",
      "execution_count": null,
      "id": "5bb823d1",
      "metadata": {
        "id": "5bb823d1"
      },
      "outputs": [],
      "source": [
        "age = 39"
      ]
    },
    {
      "cell_type": "code",
      "execution_count": null,
      "id": "7ecdd451",
      "metadata": {
        "id": "7ecdd451",
        "outputId": "7c98b269-1484-4089-efaf-6e9fe909c99c"
      },
      "outputs": [
        {
          "name": "stdout",
          "output_type": "stream",
          "text": [
            "Kay is 39 years old.\n"
          ]
        }
      ],
      "source": [
        "print(f'{name} is {age} years old.')"
      ]
    },
    {
      "cell_type": "code",
      "execution_count": null,
      "id": "4b47c30b",
      "metadata": {
        "id": "4b47c30b"
      },
      "outputs": [],
      "source": [
        "height = 178"
      ]
    },
    {
      "cell_type": "code",
      "execution_count": null,
      "id": "37c90fcc",
      "metadata": {
        "id": "37c90fcc",
        "outputId": "969feb5b-76bd-4924-e332-f098a45e8100"
      },
      "outputs": [
        {
          "name": "stdout",
          "output_type": "stream",
          "text": [
            "Kay is 39 years old and 178 cm tall.\n"
          ]
        }
      ],
      "source": [
        "print(f'{name} is {age} years old and {height} cm tall.')"
      ]
    },
    {
      "cell_type": "code",
      "execution_count": null,
      "id": "213a61ce",
      "metadata": {
        "id": "213a61ce"
      },
      "outputs": [],
      "source": [
        "# LIST IN PYTHON\n",
        "my_list = [1,2,3]"
      ]
    },
    {
      "cell_type": "code",
      "execution_count": null,
      "id": "7de42cc5",
      "metadata": {
        "id": "7de42cc5"
      },
      "outputs": [],
      "source": [
        "# list bcombines different data types as seen below\n",
        "my_list = [\"STRING\",100,23.2]"
      ]
    },
    {
      "cell_type": "code",
      "execution_count": null,
      "id": "35321668",
      "metadata": {
        "id": "35321668",
        "outputId": "84776b83-5343-4703-df8b-526b079ec8d5"
      },
      "outputs": [
        {
          "data": {
            "text/plain": [
              "3"
            ]
          },
          "execution_count": 161,
          "metadata": {},
          "output_type": "execute_result"
        }
      ],
      "source": [
        "len(my_list)"
      ]
    },
    {
      "cell_type": "code",
      "execution_count": null,
      "id": "9fd74a28",
      "metadata": {
        "id": "9fd74a28",
        "outputId": "c897ae1c-b266-4bca-c464-8873194e417c"
      },
      "outputs": [
        {
          "data": {
            "text/plain": [
              "23.2"
            ]
          },
          "execution_count": 172,
          "metadata": {},
          "output_type": "execute_result"
        }
      ],
      "source": [
        "my_list[2]"
      ]
    },
    {
      "cell_type": "code",
      "execution_count": null,
      "id": "8c504af2",
      "metadata": {
        "id": "8c504af2"
      },
      "outputs": [],
      "source": [
        "another_list= ['four',8,00.31]"
      ]
    },
    {
      "cell_type": "code",
      "execution_count": null,
      "id": "a18e6dca",
      "metadata": {
        "id": "a18e6dca",
        "outputId": "2a35a165-3438-46ef-9d3a-aa141626e214"
      },
      "outputs": [
        {
          "data": {
            "text/plain": [
              "['STRING', 100, 23.2, 'four', 8, 0.31]"
            ]
          },
          "execution_count": 174,
          "metadata": {},
          "output_type": "execute_result"
        }
      ],
      "source": [
        "my_list + another_list"
      ]
    },
    {
      "cell_type": "code",
      "execution_count": null,
      "id": "1bb72d37",
      "metadata": {
        "id": "1bb72d37"
      },
      "outputs": [],
      "source": [
        "New_List= my_list+ another_list"
      ]
    },
    {
      "cell_type": "code",
      "execution_count": null,
      "id": "4b482b07",
      "metadata": {
        "id": "4b482b07",
        "outputId": "fb1cfa11-65d1-4bbb-b79c-283e20669bee"
      },
      "outputs": [
        {
          "data": {
            "text/plain": [
              "['STRING', 100, 23.2, 'four', 8, 0.31]"
            ]
          },
          "execution_count": 178,
          "metadata": {},
          "output_type": "execute_result"
        }
      ],
      "source": [
        "New_List"
      ]
    },
    {
      "cell_type": "code",
      "execution_count": null,
      "id": "a6ea170a",
      "metadata": {
        "id": "a6ea170a"
      },
      "outputs": [],
      "source": [
        "# List is one of the data types that can be mutable. example below we change from 'STRING' to 'int'\n",
        "\n",
        "New_List[0]= 'int'"
      ]
    },
    {
      "cell_type": "code",
      "execution_count": null,
      "id": "36ffef30",
      "metadata": {
        "id": "36ffef30",
        "outputId": "188fc055-0d03-4605-ec6a-84b83c352a82"
      },
      "outputs": [
        {
          "data": {
            "text/plain": [
              "['int', 100, 23.2, 'four', 8, 0.31]"
            ]
          },
          "execution_count": 185,
          "metadata": {},
          "output_type": "execute_result"
        }
      ],
      "source": [
        "# Here we did not need to use concatonation or slicing to mutate\n",
        "\n",
        "New_List"
      ]
    },
    {
      "cell_type": "code",
      "execution_count": null,
      "id": "b81c0657",
      "metadata": {
        "id": "b81c0657"
      },
      "outputs": [],
      "source": [
        "# append just  type the  new_List and dot infront and tab it will givea list of menu then choose append\n",
        "# Appens adds a new item to the end of the list as shown in example below adding six\n",
        "New_List.append(\"six\")"
      ]
    },
    {
      "cell_type": "code",
      "execution_count": null,
      "id": "1979aa8e",
      "metadata": {
        "id": "1979aa8e",
        "outputId": "6f3886c2-bb5e-4c0e-f3e0-472634021c7d"
      },
      "outputs": [
        {
          "data": {
            "text/plain": [
              "['int', 100, 23.2, 'four', 8, 0.31, 'six']"
            ]
          },
          "execution_count": 189,
          "metadata": {},
          "output_type": "execute_result"
        }
      ],
      "source": [
        "New_List"
      ]
    },
    {
      "cell_type": "code",
      "execution_count": null,
      "id": "bc16c2aa",
      "metadata": {
        "id": "bc16c2aa",
        "outputId": "b784f82d-dd27-45cb-96f2-122da29d2dd2"
      },
      "outputs": [
        {
          "data": {
            "text/plain": [
              "'six'"
            ]
          },
          "execution_count": 193,
          "metadata": {},
          "output_type": "execute_result"
        }
      ],
      "source": [
        "# the pop function which is also in the list menu is used to remove the last item on the list\n",
        "# It is shown below, unlike when adding you write the item in the parenthesis when poping you leave it blank\n",
        "# However if you do not want to remove from the back gthen you put the index number of what you want in the parenthesis\n",
        "New_List.pop()"
      ]
    },
    {
      "cell_type": "code",
      "execution_count": null,
      "id": "ae0d8a80",
      "metadata": {
        "id": "ae0d8a80",
        "outputId": "819ab961-7bf6-490f-b514-3bf928c0b5cd"
      },
      "outputs": [
        {
          "data": {
            "text/plain": [
              "['int', 100, 23.2, 'four', 8, 0.31]"
            ]
          },
          "execution_count": 194,
          "metadata": {},
          "output_type": "execute_result"
        }
      ],
      "source": [
        "New_List"
      ]
    },
    {
      "cell_type": "code",
      "execution_count": null,
      "id": "4b4f059f",
      "metadata": {
        "id": "4b4f059f",
        "outputId": "99646a6a-a517-44df-fd11-1ac8fec824f8"
      },
      "outputs": [
        {
          "data": {
            "text/plain": [
              "'four'"
            ]
          },
          "execution_count": 195,
          "metadata": {},
          "output_type": "execute_result"
        }
      ],
      "source": [
        "# specify what to remove, we remove 'four' from gthe list itb is the 3rd index\n",
        "New_List.pop(3)"
      ]
    },
    {
      "cell_type": "code",
      "execution_count": null,
      "id": "967fb29f",
      "metadata": {
        "id": "967fb29f",
        "outputId": "f73661ad-b5a1-4c6c-fdc6-e2716337bc2b"
      },
      "outputs": [
        {
          "data": {
            "text/plain": [
              "['int', 100, 23.2, 8, 0.31]"
            ]
          },
          "execution_count": 196,
          "metadata": {},
          "output_type": "execute_result"
        }
      ],
      "source": [
        "New_List"
      ]
    },
    {
      "cell_type": "code",
      "execution_count": null,
      "id": "028d304d",
      "metadata": {
        "id": "028d304d"
      },
      "outputs": [],
      "source": [
        "\n",
        "# Sorting in order and also revresing we use sort and reverse function\n",
        "\n",
        "\n",
        "New_List = ['a','e','x','b','c']\n",
        "Num_List=[4,1,8,3]"
      ]
    },
    {
      "cell_type": "code",
      "execution_count": null,
      "id": "bba52a3e",
      "metadata": {
        "id": "bba52a3e"
      },
      "outputs": [],
      "source": [
        "New_List.sort()"
      ]
    },
    {
      "cell_type": "code",
      "execution_count": null,
      "id": "3c338627",
      "metadata": {
        "id": "3c338627",
        "outputId": "025709c5-40ec-44be-9261-efd5b980c0ba"
      },
      "outputs": [
        {
          "data": {
            "text/plain": [
              "['a', 'b', 'c', 'e', 'x']"
            ]
          },
          "execution_count": 199,
          "metadata": {},
          "output_type": "execute_result"
        }
      ],
      "source": [
        "New_List"
      ]
    },
    {
      "cell_type": "code",
      "execution_count": null,
      "id": "a26a354b",
      "metadata": {
        "id": "a26a354b"
      },
      "outputs": [],
      "source": [
        "Num_List.reverse()"
      ]
    },
    {
      "cell_type": "code",
      "execution_count": null,
      "id": "c1ba4273",
      "metadata": {
        "id": "c1ba4273",
        "outputId": "4ef9f57b-cdcc-4401-e516-6faf5ae0c164"
      },
      "outputs": [
        {
          "data": {
            "text/plain": [
              "[3, 8, 1, 4]"
            ]
          },
          "execution_count": 201,
          "metadata": {},
          "output_type": "execute_result"
        }
      ],
      "source": [
        "Num_List"
      ]
    },
    {
      "cell_type": "code",
      "execution_count": 1,
      "id": "66ceea79",
      "metadata": {
        "id": "66ceea79",
        "outputId": "5d2182f2-5348-49b1-a5a7-54f8d9f1980f",
        "colab": {
          "base_uri": "https://localhost:8080/"
        }
      },
      "outputs": [
        {
          "output_type": "execute_result",
          "data": {
            "text/plain": [
              "{'key1': 'value1', 'key2': 'value2'}"
            ]
          },
          "metadata": {},
          "execution_count": 1
        }
      ],
      "source": [
        "# DICTIONARIES\n",
        "\n",
        "my_dict = {'key1':'value1','key2':'value2'}\n",
        "my_dict"
      ]
    },
    {
      "cell_type": "code",
      "source": [
        "my_dict['key1']"
      ],
      "metadata": {
        "id": "NiFIGSU6ntE6",
        "outputId": "6fe76f2f-0e65-4e63-fac2-77b3cc15a0c5",
        "colab": {
          "base_uri": "https://localhost:8080/",
          "height": 35
        }
      },
      "id": "NiFIGSU6ntE6",
      "execution_count": 3,
      "outputs": [
        {
          "output_type": "execute_result",
          "data": {
            "text/plain": [
              "'value1'"
            ],
            "application/vnd.google.colaboratory.intrinsic+json": {
              "type": "string"
            }
          },
          "metadata": {},
          "execution_count": 3
        }
      ]
    },
    {
      "cell_type": "code",
      "source": [
        "# a good axample for using dictionaries is below\n",
        "\n",
        "prices_lookup ={'apple':2.99,'oranges':1.99,'milk':5.80}\n",
        "prices_lookup['apple']"
      ],
      "metadata": {
        "id": "SKLBr-F8oE4c",
        "outputId": "3ca6818c-5486-413e-d2c3-a8f25d30173c",
        "colab": {
          "base_uri": "https://localhost:8080/"
        }
      },
      "id": "SKLBr-F8oE4c",
      "execution_count": 8,
      "outputs": [
        {
          "output_type": "execute_result",
          "data": {
            "text/plain": [
              "2.99"
            ]
          },
          "metadata": {},
          "execution_count": 8
        }
      ]
    },
    {
      "cell_type": "code",
      "source": [
        "#we can also have a list in a dictionary and also a sub dictionary in a dictionary. example below\n",
        "d={'k1':13,'k2':[0,1,2,],'k3':{'dicoinsidedico':100}}\n",
        "d['k2']"
      ],
      "metadata": {
        "id": "yFmDqlStqR2q",
        "outputId": "87d00bf6-642c-49da-caa7-eff8a6e7548a",
        "colab": {
          "base_uri": "https://localhost:8080/"
        }
      },
      "id": "yFmDqlStqR2q",
      "execution_count": 10,
      "outputs": [
        {
          "output_type": "execute_result",
          "data": {
            "text/plain": [
              "[0, 1, 2]"
            ]
          },
          "metadata": {},
          "execution_count": 10
        }
      ]
    },
    {
      "cell_type": "code",
      "source": [
        "d['k3']"
      ],
      "metadata": {
        "id": "5_8prq9DrVib",
        "outputId": "8ba6cfce-4ec8-4e9c-c082-68d58e5ee597",
        "colab": {
          "base_uri": "https://localhost:8080/"
        }
      },
      "id": "5_8prq9DrVib",
      "execution_count": 11,
      "outputs": [
        {
          "output_type": "execute_result",
          "data": {
            "text/plain": [
              "{'dicoinsidedico': 100}"
            ]
          },
          "metadata": {},
          "execution_count": 11
        }
      ]
    },
    {
      "cell_type": "code",
      "source": [
        "d['k3']['dicoinsidedico']"
      ],
      "metadata": {
        "id": "x5NL_SJBreRu",
        "outputId": "abbf017f-4de4-4f4a-ca3d-6de74c275387",
        "colab": {
          "base_uri": "https://localhost:8080/"
        }
      },
      "id": "x5NL_SJBreRu",
      "execution_count": 12,
      "outputs": [
        {
          "output_type": "execute_result",
          "data": {
            "text/plain": [
              "100"
            ]
          },
          "metadata": {},
          "execution_count": 12
        }
      ]
    },
    {
      "cell_type": "code",
      "source": [
        "# In the case of the lkist we could grab an index and also change the style directly from the dictionary\n",
        "d={'k1':13,'k2':['a','b','c',],'k3':{'dicoinsidedico':100}}\n",
        "d['k2'][2].upper()"
      ],
      "metadata": {
        "id": "gYYfstWQsAGK",
        "outputId": "33f74826-bd4b-4030-e206-80d92bdcd96e",
        "colab": {
          "base_uri": "https://localhost:8080/",
          "height": 35
        }
      },
      "id": "gYYfstWQsAGK",
      "execution_count": 19,
      "outputs": [
        {
          "output_type": "execute_result",
          "data": {
            "text/plain": [
              "'C'"
            ],
            "application/vnd.google.colaboratory.intrinsic+json": {
              "type": "string"
            }
          },
          "metadata": {},
          "execution_count": 19
        }
      ]
    },
    {
      "cell_type": "code",
      "source": [
        "d['k2'].sort()\n",
        "d['k2']"
      ],
      "metadata": {
        "id": "Fgh-XmefuhL0",
        "outputId": "1bab35cb-12b2-4049-875c-b8fd48dc2669",
        "colab": {
          "base_uri": "https://localhost:8080/"
        }
      },
      "id": "Fgh-XmefuhL0",
      "execution_count": 23,
      "outputs": [
        {
          "output_type": "execute_result",
          "data": {
            "text/plain": [
              "['a', 'b', 'c']"
            ]
          },
          "metadata": {},
          "execution_count": 23
        }
      ]
    },
    {
      "cell_type": "code",
      "source": [
        "d['k2'].reverse()\n",
        "d['k2']"
      ],
      "metadata": {
        "id": "UXhq9Q0gus-L",
        "outputId": "790b2999-53f9-494d-f9ca-88864f8ff99e",
        "colab": {
          "base_uri": "https://localhost:8080/"
        }
      },
      "id": "UXhq9Q0gus-L",
      "execution_count": 27,
      "outputs": [
        {
          "output_type": "execute_result",
          "data": {
            "text/plain": [
              "['c', 'b', 'a']"
            ]
          },
          "metadata": {},
          "execution_count": 27
        }
      ]
    },
    {
      "cell_type": "code",
      "source": [
        "# in dictionaries its easy to assign and add a new value\n",
        "d={'k1':13,'k2':['a','b','c',],'k3':{'dicoinsidedico':100}}\n",
        "# I can just add k4  straightforward\n",
        "d['k4']=380\n",
        "d"
      ],
      "metadata": {
        "id": "G3iVuRbuu93l",
        "outputId": "e8ebf85d-6356-4846-c525-495580ad5312",
        "colab": {
          "base_uri": "https://localhost:8080/"
        }
      },
      "id": "G3iVuRbuu93l",
      "execution_count": 29,
      "outputs": [
        {
          "output_type": "execute_result",
          "data": {
            "text/plain": [
              "{'k1': 13, 'k2': ['a', 'b', 'c'], 'k3': {'dicoinsidedico': 100}, 'k4': 380}"
            ]
          },
          "metadata": {},
          "execution_count": 29
        }
      ]
    },
    {
      "cell_type": "code",
      "source": [
        "# to change back to the previous without the 300 is just simply re-entering only the 3 keys and values or just copy and paste\n",
        "d={'k1':13,'k2':['a','b','c',],'k3':{'dicoinsidedico':100}}\n",
        "d"
      ],
      "metadata": {
        "id": "F96LMG2BxfWF",
        "outputId": "784c534c-cdc5-4369-fcc3-8164f0623804",
        "colab": {
          "base_uri": "https://localhost:8080/"
        }
      },
      "id": "F96LMG2BxfWF",
      "execution_count": 31,
      "outputs": [
        {
          "output_type": "execute_result",
          "data": {
            "text/plain": [
              "{'k1': 13, 'k2': ['a', 'b', 'c'], 'k3': {'dicoinsidedico': 100}}"
            ]
          },
          "metadata": {},
          "execution_count": 31
        }
      ]
    },
    {
      "cell_type": "code",
      "source": [
        "# also you can just ask to see the all the keys in the dicionary and also the values too and items also together\n",
        "d.keys()"
      ],
      "metadata": {
        "id": "tUe2C36LyDlX",
        "outputId": "0981e0c4-8db6-4bba-eddd-dad3de033293",
        "colab": {
          "base_uri": "https://localhost:8080/"
        }
      },
      "id": "tUe2C36LyDlX",
      "execution_count": 35,
      "outputs": [
        {
          "output_type": "execute_result",
          "data": {
            "text/plain": [
              "dict_keys(['k1', 'k2', 'k3'])"
            ]
          },
          "metadata": {},
          "execution_count": 35
        }
      ]
    },
    {
      "cell_type": "code",
      "source": [
        "d.values()"
      ],
      "metadata": {
        "id": "XCjdjKtFycIF",
        "outputId": "8827d2cf-48ff-4bb4-c91c-e2997930202c",
        "colab": {
          "base_uri": "https://localhost:8080/"
        }
      },
      "id": "XCjdjKtFycIF",
      "execution_count": 36,
      "outputs": [
        {
          "output_type": "execute_result",
          "data": {
            "text/plain": [
              "dict_values([13, ['a', 'b', 'c'], {'dicoinsidedico': 100}])"
            ]
          },
          "metadata": {},
          "execution_count": 36
        }
      ]
    },
    {
      "cell_type": "code",
      "source": [
        "d.items()"
      ],
      "metadata": {
        "id": "Sk5sSeedyq0V",
        "outputId": "eed3cd44-71fd-472c-a29d-6955502c6544",
        "colab": {
          "base_uri": "https://localhost:8080/"
        }
      },
      "id": "Sk5sSeedyq0V",
      "execution_count": 37,
      "outputs": [
        {
          "output_type": "execute_result",
          "data": {
            "text/plain": [
              "dict_items([('k1', 13), ('k2', ['a', 'b', 'c']), ('k3', {'dicoinsidedico': 100})])"
            ]
          },
          "metadata": {},
          "execution_count": 37
        }
      ]
    },
    {
      "cell_type": "markdown",
      "source": [
        "#TUPLES: this are similar to List the only major difference is they are immutable which is afeature a list and dictionary posses and also instead of index [] you use parentheses()"
      ],
      "metadata": {
        "id": "ReXK9kNF0TAn"
      },
      "id": "ReXK9kNF0TAn"
    },
    {
      "cell_type": "code",
      "source": [
        "#As said the difference is () for tuples and [] for list this is shown below\n",
        "t=(1,2,3)\n",
        "mylist=[1,2,3]"
      ],
      "metadata": {
        "id": "1H17KC7q0sYy"
      },
      "id": "1H17KC7q0sYy",
      "execution_count": 39,
      "outputs": []
    },
    {
      "cell_type": "code",
      "source": [
        "type(t)"
      ],
      "metadata": {
        "id": "SLOpvd5L1qQh",
        "outputId": "d9c4aaec-db1e-4c00-b1dd-0b729b8c41b3",
        "colab": {
          "base_uri": "https://localhost:8080/"
        }
      },
      "id": "SLOpvd5L1qQh",
      "execution_count": 40,
      "outputs": [
        {
          "output_type": "execute_result",
          "data": {
            "text/plain": [
              "tuple"
            ]
          },
          "metadata": {},
          "execution_count": 40
        }
      ]
    },
    {
      "cell_type": "code",
      "source": [
        "type(mylist)"
      ],
      "metadata": {
        "id": "iFlWS80t1ufo",
        "outputId": "15d0dd1e-63b4-43e3-a7cb-c27ff7e89b13",
        "colab": {
          "base_uri": "https://localhost:8080/"
        }
      },
      "id": "iFlWS80t1ufo",
      "execution_count": 41,
      "outputs": [
        {
          "output_type": "execute_result",
          "data": {
            "text/plain": [
              "list"
            ]
          },
          "metadata": {},
          "execution_count": 41
        }
      ]
    },
    {
      "cell_type": "code",
      "source": [
        "# you can use count to show the amount of time an item appears\n",
        "t=('a','a','b','c','c','c')\n",
        "t.count('c')"
      ],
      "metadata": {
        "id": "-hnOFqhC2diA",
        "outputId": "975ff225-d5f2-40c3-cfeb-a07bb596e056",
        "colab": {
          "base_uri": "https://localhost:8080/"
        }
      },
      "id": "-hnOFqhC2diA",
      "execution_count": 43,
      "outputs": [
        {
          "output_type": "execute_result",
          "data": {
            "text/plain": [
              "3"
            ]
          },
          "metadata": {},
          "execution_count": 43
        }
      ]
    },
    {
      "cell_type": "code",
      "source": [
        "#also you can easily do the index number\n",
        "# for a it will return 0 as it will only show the first time the item appears on the index\n",
        "t.index('a')"
      ],
      "metadata": {
        "id": "hsAEWSMv286J",
        "outputId": "ef9306d7-d69b-4ec4-b50b-5813bc13ed40",
        "colab": {
          "base_uri": "https://localhost:8080/"
        }
      },
      "id": "hsAEWSMv286J",
      "execution_count": 44,
      "outputs": [
        {
          "output_type": "execute_result",
          "data": {
            "text/plain": [
              "0"
            ]
          },
          "metadata": {},
          "execution_count": 44
        }
      ]
    },
    {
      "cell_type": "code",
      "source": [
        "t.index('c')"
      ],
      "metadata": {
        "id": "OdNuAfWQ3V0Z",
        "outputId": "0ccf8e2f-5654-4b4b-fff9-ab566bd5a0dd",
        "colab": {
          "base_uri": "https://localhost:8080/"
        }
      },
      "id": "OdNuAfWQ3V0Z",
      "execution_count": 45,
      "outputs": [
        {
          "output_type": "execute_result",
          "data": {
            "text/plain": [
              "3"
            ]
          },
          "metadata": {},
          "execution_count": 45
        }
      ]
    },
    {
      "cell_type": "code",
      "source": [
        "tt= (1,2,3,4,5,5,6)\n",
        "tt[1]\n"
      ],
      "metadata": {
        "id": "UhqHbpMB4cmS",
        "outputId": "5e268f8e-82c1-452c-ae72-a73704253d2e",
        "colab": {
          "base_uri": "https://localhost:8080/"
        }
      },
      "id": "UhqHbpMB4cmS",
      "execution_count": 50,
      "outputs": [
        {
          "output_type": "execute_result",
          "data": {
            "text/plain": [
              "2"
            ]
          },
          "metadata": {},
          "execution_count": 50
        }
      ]
    },
    {
      "cell_type": "markdown",
      "source": [
        "**SETS: are unordered collections of unique elements. they represent the same**"
      ],
      "metadata": {
        "id": "IjafNjmZ88-4"
      },
      "id": "IjafNjmZ88-4"
    },
    {
      "cell_type": "code",
      "source": [
        "myset = set()\n",
        "myset"
      ],
      "metadata": {
        "id": "wTMrdLt84syD",
        "outputId": "becd459b-e66b-4284-a036-aa379f1f5e1f",
        "colab": {
          "base_uri": "https://localhost:8080/"
        }
      },
      "id": "wTMrdLt84syD",
      "execution_count": 52,
      "outputs": [
        {
          "output_type": "execute_result",
          "data": {
            "text/plain": [
              "set()"
            ]
          },
          "metadata": {},
          "execution_count": 52
        }
      ]
    },
    {
      "cell_type": "code",
      "source": [
        "myset.add(1)\n",
        "myset"
      ],
      "metadata": {
        "id": "6PW9o1US9sHe",
        "outputId": "fa1e3767-bb17-4e50-ebd9-1cbf09b51094",
        "colab": {
          "base_uri": "https://localhost:8080/"
        }
      },
      "id": "6PW9o1US9sHe",
      "execution_count": 54,
      "outputs": [
        {
          "output_type": "execute_result",
          "data": {
            "text/plain": [
              "{1}"
            ]
          },
          "metadata": {},
          "execution_count": 54
        }
      ]
    },
    {
      "cell_type": "code",
      "source": [
        "myset.add(2)\n",
        "myset"
      ],
      "metadata": {
        "id": "5-AgA_Ef905m",
        "outputId": "c4692729-4530-4a87-fe4f-cd9210099018",
        "colab": {
          "base_uri": "https://localhost:8080/"
        }
      },
      "id": "5-AgA_Ef905m",
      "execution_count": 56,
      "outputs": [
        {
          "output_type": "execute_result",
          "data": {
            "text/plain": [
              "{1, 2}"
            ]
          },
          "metadata": {},
          "execution_count": 56
        }
      ]
    },
    {
      "cell_type": "code",
      "source": [
        "# now lets try add another 2 and you will see it wont change as it only recognises a single 2 as a set\n",
        "myset.add(2)\n",
        "myset"
      ],
      "metadata": {
        "id": "WvfK_jt3-Oz3",
        "outputId": "c4da9695-0435-41a2-c8a7-3d7ab2baf1af",
        "colab": {
          "base_uri": "https://localhost:8080/"
        }
      },
      "id": "WvfK_jt3-Oz3",
      "execution_count": 59,
      "outputs": [
        {
          "output_type": "execute_result",
          "data": {
            "text/plain": [
              "{1, 2}"
            ]
          },
          "metadata": {},
          "execution_count": 59
        }
      ]
    },
    {
      "cell_type": "code",
      "source": [
        "# so this below is what set really does it groups items in a list to an individual set.\n",
        "mylist= [1,1,1,1,1,1,1,2,2,2,2,3,3,3,3,3,'a','a','k','k']\n",
        "set(mylist)\n"
      ],
      "metadata": {
        "id": "xqGBpzJw-vg3",
        "outputId": "70568427-8eb4-48d3-d167-6a3e834c078a",
        "colab": {
          "base_uri": "https://localhost:8080/"
        }
      },
      "id": "xqGBpzJw-vg3",
      "execution_count": 66,
      "outputs": [
        {
          "output_type": "execute_result",
          "data": {
            "text/plain": [
              "{1, 2, 3, 'a', 'k'}"
            ]
          },
          "metadata": {},
          "execution_count": 66
        }
      ]
    },
    {
      "cell_type": "code",
      "source": [
        "set('Mississippi')"
      ],
      "metadata": {
        "id": "0JRzbgkA_U7P",
        "outputId": "b9335bbc-967e-4205-c955-c33f6a0d1017",
        "colab": {
          "base_uri": "https://localhost:8080/"
        }
      },
      "id": "0JRzbgkA_U7P",
      "execution_count": 68,
      "outputs": [
        {
          "output_type": "execute_result",
          "data": {
            "text/plain": [
              "{'M', 'i', 'p', 's'}"
            ]
          },
          "metadata": {},
          "execution_count": 68
        }
      ]
    },
    {
      "cell_type": "markdown",
      "source": [
        "**BOOLEANS: True or False statements**"
      ],
      "metadata": {
        "id": "sGxOnvzqYzbq"
      },
      "id": "sGxOnvzqYzbq"
    },
    {
      "cell_type": "code",
      "source": [
        "True"
      ],
      "metadata": {
        "id": "yR3AFN-0DnzJ",
        "outputId": "f5e21e50-01eb-4380-ad32-de7376ad3b44",
        "colab": {
          "base_uri": "https://localhost:8080/"
        }
      },
      "id": "yR3AFN-0DnzJ",
      "execution_count": 72,
      "outputs": [
        {
          "output_type": "execute_result",
          "data": {
            "text/plain": [
              "True"
            ]
          },
          "metadata": {},
          "execution_count": 72
        }
      ]
    },
    {
      "cell_type": "code",
      "source": [
        "False"
      ],
      "metadata": {
        "id": "odDBGbFAZF-E",
        "outputId": "4502d8e2-185a-4648-a8f5-3f5a952d30be",
        "colab": {
          "base_uri": "https://localhost:8080/"
        }
      },
      "id": "odDBGbFAZF-E",
      "execution_count": 73,
      "outputs": [
        {
          "output_type": "execute_result",
          "data": {
            "text/plain": [
              "False"
            ]
          },
          "metadata": {},
          "execution_count": 73
        }
      ]
    },
    {
      "cell_type": "code",
      "source": [
        "type(False)"
      ],
      "metadata": {
        "id": "Fz0-yan9ZKS3",
        "outputId": "0d3cb419-b26c-42f6-dfd9-ad1fd85e6e5e",
        "colab": {
          "base_uri": "https://localhost:8080/"
        }
      },
      "id": "Fz0-yan9ZKS3",
      "execution_count": 74,
      "outputs": [
        {
          "output_type": "execute_result",
          "data": {
            "text/plain": [
              "bool"
            ]
          },
          "metadata": {},
          "execution_count": 74
        }
      ]
    },
    {
      "cell_type": "code",
      "source": [
        "1>2"
      ],
      "metadata": {
        "id": "NIIStz3eZOGb",
        "outputId": "378fd56a-76b7-4c45-94b6-a2c5fed09b1a",
        "colab": {
          "base_uri": "https://localhost:8080/"
        }
      },
      "id": "NIIStz3eZOGb",
      "execution_count": 75,
      "outputs": [
        {
          "output_type": "execute_result",
          "data": {
            "text/plain": [
              "False"
            ]
          },
          "metadata": {},
          "execution_count": 75
        }
      ]
    },
    {
      "cell_type": "code",
      "source": [
        "1==1\n"
      ],
      "metadata": {
        "id": "O55pBZMHZS9V",
        "outputId": "c1cc19d1-e4f3-447d-bbb3-b08fbcc156c2",
        "colab": {
          "base_uri": "https://localhost:8080/"
        }
      },
      "id": "O55pBZMHZS9V",
      "execution_count": 76,
      "outputs": [
        {
          "output_type": "execute_result",
          "data": {
            "text/plain": [
              "True"
            ]
          },
          "metadata": {},
          "execution_count": 76
        }
      ]
    },
    {
      "cell_type": "code",
      "source": [
        "b=None\n",
        "b"
      ],
      "metadata": {
        "id": "T0mqDG7rZaLm"
      },
      "id": "T0mqDG7rZaLm",
      "execution_count": 79,
      "outputs": []
    }
  ],
  "metadata": {
    "kernelspec": {
      "display_name": "Python 3 (ipykernel)",
      "language": "python",
      "name": "python3"
    },
    "language_info": {
      "codemirror_mode": {
        "name": "ipython",
        "version": 3
      },
      "file_extension": ".py",
      "mimetype": "text/x-python",
      "name": "python",
      "nbconvert_exporter": "python",
      "pygments_lexer": "ipython3",
      "version": "3.11.5"
    },
    "colab": {
      "provenance": [],
      "include_colab_link": true
    }
  },
  "nbformat": 4,
  "nbformat_minor": 5
}